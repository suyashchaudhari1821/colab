{
  "nbformat": 4,
  "nbformat_minor": 0,
  "metadata": {
    "colab": {
      "provenance": [],
      "authorship_tag": "ABX9TyO14IwYH/DoBtXfxhsts4wc",
      "include_colab_link": true
    },
    "kernelspec": {
      "name": "python3",
      "display_name": "Python 3"
    },
    "language_info": {
      "name": "python"
    }
  },
  "cells": [
    {
      "cell_type": "markdown",
      "metadata": {
        "id": "view-in-github",
        "colab_type": "text"
      },
      "source": [
        "<a href=\"https://colab.research.google.com/github/suyashchaudhari1821/colab/blob/main/109_Suyash_Problem_Solving.ipynb\" target=\"_parent\"><img src=\"https://colab.research.google.com/assets/colab-badge.svg\" alt=\"Open In Colab\"/></a>"
      ]
    },
    {
      "cell_type": "code",
      "execution_count": null,
      "metadata": {
        "colab": {
          "base_uri": "https://localhost:8080/"
        },
        "id": "Ghxqvs-Hd1Nj",
        "outputId": "1d1996c1-ae62-47f4-af09-bf7db4a5c4bc"
      },
      "outputs": [
        {
          "output_type": "stream",
          "name": "stdout",
          "text": [
            "How many employees do you want to add? 4\n",
            "Enter employee name: Samp\n",
            "Enter employee salary: 12345\n",
            "Enter employee name: monika\n",
            "Enter employee salary: 1236\n",
            "Enter employee name: sujay\n",
            "Enter employee salary: 123467\n",
            "Enter employee name: Suyash\n",
            "Enter employee salary: 123498\n",
            "Manager with highest salary:  Suyash\n",
            "HR with second highest salary:  sujay\n",
            "Total expenditure on salaries:  260546.0\n"
          ]
        }
      ],
      "source": [
        "# Define a dictionary to store employee data\n",
        "employees = {}\n",
        "\n",
        "# Ask the user for the number of employees\n",
        "num_employees = int(input(\"How many employees do you want to add? \"))\n",
        "\n",
        "# Loop through each employee and ask for their name and salary\n",
        "for i in range(num_employees):\n",
        "    name = input(\"Enter employee name: \")\n",
        "    salary = float(input(\"Enter employee salary: \"))\n",
        "    employees[name] = salary\n",
        "\n",
        "# Find the manager with the highest salary and the HR person with the second highest salary\n",
        "sorted_salaries = sorted(employees.values(), reverse=True)\n",
        "manager_salary = sorted_salaries[0]\n",
        "hr_salary = sorted_salaries[1]\n",
        "\n",
        "manager = \"\"\n",
        "hr = \"\"\n",
        "\n",
        "for name, salary in employees.items():\n",
        "    if salary == manager_salary:\n",
        "        manager = name\n",
        "    elif salary == hr_salary:\n",
        "        hr = name\n",
        "\n",
        "# Calculate the total expenditure on employee salaries\n",
        "total_expenditure = sum(employees.values())\n",
        "\n",
        "# Display the results\n",
        "print(\"Manager with highest salary: \", manager)\n",
        "print(\"HR with second highest salary: \", hr)\n",
        "print(\"Total expenditure on salaries: \", total_expenditure)"
      ]
    }
  ]
}