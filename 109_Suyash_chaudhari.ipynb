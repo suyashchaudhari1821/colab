{
  "cells": [
    {
      "cell_type": "markdown",
      "metadata": {
        "id": "view-in-github",
        "colab_type": "text"
      },
      "source": [
        "<a href=\"https://colab.research.google.com/github/suyashchaudhari1821/colab/blob/main/109_Suyash_chaudhari.ipynb\" target=\"_parent\"><img src=\"https://colab.research.google.com/assets/colab-badge.svg\" alt=\"Open In Colab\"/></a>"
      ]
    },
    {
      "cell_type": "code",
      "execution_count": null,
      "metadata": {
        "colab": {
          "base_uri": "https://localhost:8080/"
        },
        "id": "08oCExz0PCOk",
        "outputId": "0544f252-dfb5-42e9-c643-66ba72b5b7a6"
      },
      "outputs": [
        {
          "name": "stdout",
          "output_type": "stream",
          "text": [
            "a as int: 25\n",
            "b as long 548468\n",
            "c as float 14.25\n",
            "d as complex 3.14j\n",
            "Welcome to Python\n",
            "[15, 25.6, 'Python']\n",
            "(21, 'Python', 21.45)\n",
            "{'Aradhana': 21, 'Prarthana': 22, 'Rugved': 23}\n"
          ]
        }
      ],
      "source": [
        "                                                 # Numbers\n",
        "a=25\n",
        "print(\"a as int:\",a)\n",
        "b=548468\n",
        "print(\"b as long\",b)\n",
        "c=14.25\n",
        "print(\"c as float\",c)\n",
        "d=3.14j\n",
        "print(\"d as complex\",d)\n",
        "\n",
        "#string\n",
        "str1 = \"Welcome to Python\"\n",
        "print(str1)\n",
        "\n",
        "#List\n",
        "# Represents with sqaure bracket []\n",
        "# Array is static and list is dynamic\n",
        "# Can have dissimilar data types\n",
        "l1=[15,25.6,\"Python\"]\n",
        "print(l1)\n",
        "\n",
        "#tuple\n",
        "#Represented by ()\n",
        "#Set of values separated by commas\n",
        "#list [] and tuple()\n",
        "#List allows updates in size and elements where as tuple does not allow\n",
        "#tuple is read only entity\n",
        "t1=(21,\"Python\",21.45)\n",
        "print(t1)\n",
        "\n",
        "#Dictonary\n",
        "#Array,Tuple,List we have to remember the index numbers of an element\n",
        "#Dictionary creates its own index numbers for our elements\n",
        "d1={\"Aradhana\":21,\"Prarthana\":22,\"Rugved\":23}\n",
        "print(d1)"
      ]
    },
    {
      "cell_type": "code",
      "execution_count": null,
      "metadata": {
        "colab": {
          "base_uri": "https://localhost:8080/"
        },
        "id": "s8Wllzs_Pqyd",
        "outputId": "be72e907-a0bb-44d0-c372-6d8198f9fac5"
      },
      "outputs": [
        {
          "name": "stdout",
          "output_type": "stream",
          "text": [
            "Enter any number\n",
            "3\n",
            "3 is odd\n"
          ]
        }
      ],
      "source": [
        "#Short hand if-else\n",
        "print(\"Enter any number\")\n",
        "num=int(input())\n",
        "print(num,\"is even\") if num%2==0 else print(num,\"is odd\")\n"
      ]
    },
    {
      "cell_type": "code",
      "execution_count": null,
      "metadata": {
        "colab": {
          "base_uri": "https://localhost:8080/"
        },
        "id": "EyAK4RcaPtY0",
        "outputId": "58b8b77e-5b53-458a-97f7-3a6d85df2221"
      },
      "outputs": [
        {
          "name": "stdout",
          "output_type": "stream",
          "text": [
            "What is the Wheather today?Cloudy\n",
            "Don't forgert to bring jacket in case it rains.\n"
          ]
        }
      ],
      "source": [
        "#elif\n",
        "weather = input(\"What is the Wheather today?\") #input\n",
        "if weather == \"Sunny\" :\n",
        "  print(\"It is a great day to go for a picnic! \")\n",
        "elif weather == \"Cloudy\":\n",
        "  print(\"Don't forgert to bring jacket in case it rains.\")\n",
        "elif weather==\"Rainy\":\n",
        "  print(\"Remember to bring umbrella\")\n",
        "else:\n",
        "  print(\"Sorry! I don't understand the weather condition\")\n"
      ]
    },
    {
      "cell_type": "code",
      "execution_count": null,
      "metadata": {
        "id": "GBy9kD-TPxg5"
      },
      "outputs": [],
      "source": [
        "i=1\n",
        "while i<10:\n",
        "  print(\"Welcome\")\n",
        "  i=i+1"
      ]
    },
    {
      "cell_type": "code",
      "execution_count": null,
      "metadata": {
        "colab": {
          "background_save": true,
          "base_uri": "https://localhost:8080/"
        },
        "id": "sYtjv9oBP0Ou",
        "outputId": "7e6f4858-f900-4c5a-9dee-88a661002846"
      },
      "outputs": [
        {
          "name": "stdout",
          "output_type": "stream",
          "text": [
            "Enter a value\n",
            "sum 1\n",
            "sum 3\n",
            "sum 6\n",
            "sum 10\n",
            "sum 15\n",
            "sum 21\n",
            "sum 28\n",
            "sum 36\n",
            "sum 45\n",
            "sum 55\n",
            "sum 66\n",
            "sum 78\n",
            "sum 91\n",
            "sum 105\n",
            "sum 120\n",
            "sum 136\n",
            "sum 153\n",
            "sum 171\n",
            "sum 190\n",
            "sum 210\n",
            "sum 231\n"
          ]
        }
      ],
      "source": [
        "print(\"Enter a value\")\n",
        "num =int(input())\n",
        "sum=0\n",
        "i=1\n",
        "while i<=num:\n",
        "  sum=sum+i\n",
        "  i=i+1\n",
        "  print(\"sum\",sum)"
      ]
    },
    {
      "cell_type": "code",
      "execution_count": null,
      "metadata": {
        "colab": {
          "background_save": true
        },
        "id": "EZvQq0KfP3Db",
        "outputId": "92acc2a5-255f-4a13-ef41-61570ba989ea"
      },
      "outputs": [
        {
          "name": "stdout",
          "output_type": "stream",
          "text": [
            "loop refers to book C++\n",
            "loop refers to book java\n",
            "loop refers to book Python\n"
          ]
        }
      ],
      "source": [
        "l1=[\"C++\",\"java\",\"Python\"]\n",
        "for i in l1:\n",
        "  print(\"loop refers to book\",i)"
      ]
    },
    {
      "cell_type": "code",
      "execution_count": null,
      "metadata": {
        "colab": {
          "background_save": true
        },
        "id": "8UFRU0ADP5Wg",
        "outputId": "20f8d0f4-4e09-43dd-b987-eecbe1d38889"
      },
      "outputs": [
        {
          "name": "stdout",
          "output_type": "stream",
          "text": [
            "Welcome to Python\n"
          ]
        }
      ],
      "source": [
        "def sayHello():\n",
        "  print(\"Welcome to Python\")\n",
        "sayHello()"
      ]
    },
    {
      "cell_type": "code",
      "execution_count": null,
      "metadata": {
        "id": "I8jLlPWAP-93"
      },
      "outputs": [],
      "source": [
        "def even():\n",
        "  print(\"Enter a number:\")\n",
        "  num = int(input())\n",
        "  if num%2==0:\n",
        "    print(\"Number is even:\",num)\n",
        "  else:\n",
        "    print(\"Number is odd:\",num)\n",
        "even()"
      ]
    },
    {
      "cell_type": "code",
      "execution_count": null,
      "metadata": {
        "id": "cl4Q33yHQByB"
      },
      "outputs": [],
      "source": [
        "def Sum():\n",
        "  a=5\n",
        "  b=7\n",
        "  sum=a+b\n",
        "  print(\"Sum =\",sum)\n",
        "Sum()"
      ]
    },
    {
      "cell_type": "code",
      "execution_count": null,
      "metadata": {
        "id": "NFw8-39_QGhe"
      },
      "outputs": [],
      "source": [
        "\n"
      ]
    },
    {
      "cell_type": "code",
      "execution_count": null,
      "metadata": {
        "id": "U7DXeT_aQRVX"
      },
      "outputs": [],
      "source": [
        "l1=[\"\",\"\",\"\"]\n",
        "l2=[\"a\",\"\",\"\"]\n",
        "l3=[True,True]\n",
        "l4 = [True,False]\n",
        "l5 = [False,False]\n",
        "a=all(l1)\n",
        "b=all(l2)\n",
        "c=all(l3)\n",
        "d=all(l4)\n",
        "e=all(l5)\n",
        "print(a)\n",
        "print(b)\n",
        "print(c)\n",
        "print(d)\n",
        "print(e)\n"
      ]
    },
    {
      "cell_type": "code",
      "execution_count": null,
      "metadata": {
        "id": "RCa0jP4EQVgI"
      },
      "outputs": [],
      "source": [
        "def Bill():\n",
        "  p1 = int(input())\n",
        "  p2 = int(input())\n",
        "  p3 = int(input())\n",
        "  p4 = int(input())\n",
        "  sum = p1+p2+p3+p4\n",
        "  print(\"The Total price of all products = \",sum)\n",
        "Bill()"
      ]
    },
    {
      "cell_type": "code",
      "execution_count": null,
      "metadata": {
        "id": "JQayiGT-QX87"
      },
      "outputs": [],
      "source": [
        "def Marksheet():\n",
        "  print(\"Enter marks (0-300)\")\n",
        "  physics = int(input())\n",
        "  chemistry = int(input())\n",
        "  math = int(input())\n",
        "  Total_Marks = physics + chemistry + math\n",
        "  if (Total_Marks>=30 and Total_Marks<=300 ):\n",
        "    print(\"Pass\")\n",
        "  else:\n",
        "    print(\"fail\")"
      ]
    },
    {
      "cell_type": "code",
      "execution_count": null,
      "metadata": {
        "id": "armY4bykQbqV"
      },
      "outputs": [],
      "source": [
        "l1 = [10,20,\"Python\",94.2,314]\n",
        "l1.append(21)\n",
        "print(l1)"
      ]
    },
    {
      "cell_type": "code",
      "execution_count": null,
      "metadata": {
        "id": "ZB97LOsGQfsH"
      },
      "outputs": [],
      "source": [
        "l1 =[\"Python\", \"Java\", \"Essentials of data science\"]\n",
        "print(l1)\n",
        "l1.insert(2,\"Hadoop\")\n",
        "print(l1)\n"
      ]
    },
    {
      "cell_type": "code",
      "execution_count": null,
      "metadata": {
        "id": "m04kD5BSQiP4"
      },
      "outputs": [],
      "source": [
        "#extend() This function adds the elements of parameter list with invoking list\n",
        "# list1.extends (list2)\n",
        "l1=[10, 20, 30]\n",
        "l2=[15,35,45,55]\n",
        "l1.extend(l2)\n",
        "print (l1)"
      ]
    },
    {
      "cell_type": "code",
      "execution_count": null,
      "metadata": {
        "id": "-F00D2g0Qln4"
      },
      "outputs": [],
      "source": [
        "l1= [485,21.344, \"Python\", 25678]\n",
        "a = l1.__len__()      #Function returns the length of list\n",
        "print(a)"
      ]
    },
    {
      "cell_type": "code",
      "execution_count": null,
      "metadata": {
        "id": "zlBrHsrBQn4t"
      },
      "outputs": [],
      "source": [
        "#Statistics, in general, is the method of collection of data, tabulation, and interpretation\n",
        "import statistics\n",
        "l1= [1,2,3,3,2,2,2,1]\n",
        "print(statistics.mean(l1))"
      ]
    },
    {
      "cell_type": "code",
      "execution_count": null,
      "metadata": {
        "id": "GQ8xchBxQn_n"
      },
      "outputs": [],
      "source": [
        "#It is the middle value of the data set. It splits the data into two halves.\n",
        "import statistics\n",
        "t1= (21,23,45,67)\n",
        "print(statistics.median(t1))"
      ]
    },
    {
      "cell_type": "code",
      "execution_count": null,
      "metadata": {
        "id": "r6cr6PIUQq-o"
      },
      "outputs": [],
      "source": [
        "#The median_low() function returns the median of data in case of odd number of elements,\n",
        "#but in case of even number of elements, returns the lower of two middle elements.\n",
        "#The statistics.median_low() method calculates the low median of the given data set.\n",
        "#This method also sorts the data in ascending order before calculating the low median.\n",
        "import statistics\n",
        "set1 = [1, 2, 8, 4, 5]\n",
        "#1,1,2,4,5,8\n",
        "print(\"Low Median of the set is\", (statistics.median_low (set1)))"
      ]
    },
    {
      "cell_type": "code",
      "execution_count": null,
      "metadata": {
        "id": "XnawgEl9QrBu"
      },
      "outputs": [],
      "source": [
        "#median_high()\n",
        "#function returns the median of data in case of odd number of elements,\n",
        "#but in case of even number of elements, returns the higher of two middle elements.\n",
        "#median_high() method calculates the high median of the given data set.\n",
        "#This method also sorts the data in ascending order before calculating the high median.\n",
        "import statistics\n",
        "set1= [1, 3, 3, 4, 5]\n",
        "#1,3,3,4,5\n",
        "print(\"Median of the set is\", (statistics.median_high(set1)))"
      ]
    },
    {
      "cell_type": "code",
      "execution_count": null,
      "metadata": {
        "id": "C8VQaR4PQrEC"
      },
      "outputs": [],
      "source": [
        "#Mode\n",
        "#It is the value that has the highest frequency in the given data set.\n",
        "#The data set may have no mode if the frequency of all data points is the same.\n",
        "from statistics import mode\n",
        "t1 = (6, 6, 6,6,3, 3,3,3,3,3,3,3,3,3,3,3,3,4, 5, 5, 5, 5,7)\n",
        "print(\"Mode of data set is \", (mode (t1)))"
      ]
    },
    {
      "cell_type": "code",
      "execution_count": null,
      "metadata": {
        "id": "AOXZLrggQrG6"
      },
      "outputs": [],
      "source": [
        "#The difference between the largest and smallest data point in our data set is known as th\n",
        "#Range = Largest data value - smallest data value\n",
        "arr = [1, 2, 3, 4, 5]\n",
        "Maximum = max(arr)\n",
        "Minimum= min (arr)\n",
        "Range = Maximum-Minimum\n",
        "print(\"Maximum ={}, Minimum = {} and Range = {}\".format (Maximum, Minimum, Range))"
      ]
    },
    {
      "cell_type": "code",
      "execution_count": null,
      "metadata": {
        "id": "1XF9LKUWQrJT"
      },
      "outputs": [],
      "source": [
        "#It is defined as an average squared deviation from the mean.\n",
        "from statistics import variance\n",
        "t1=(1, 2, 5, 4, 8, 9, 12)\n",
        "print(\"Variance of Samplel is s\", (variance(t1)))"
      ]
    },
    {
      "cell_type": "code",
      "execution_count": null,
      "metadata": {
        "id": "7N2nKhfYQrLp"
      },
      "outputs": [],
      "source": [
        "#standard deviation\n",
        "#It is defined as the square root of the variance.\n",
        "#It is calculated by finding the Mean, then subtracting each number from the Mean which is\n",
        "from statistics import stdev\n",
        "s1=(1, 2, 5, 4, 8, 9, 12)\n",
        "print(\"The Standard Deviation of Samplel is s\", (stdev(s1)))"
      ]
    },
    {
      "cell_type": "code",
      "execution_count": null,
      "metadata": {
        "id": "kGtPQZIDeXfC"
      },
      "outputs": [],
      "source": [
        "import pandas as pd\n",
        "df = pd.read_excel('')"
      ]
    },
    {
      "cell_type": "code",
      "execution_count": null,
      "metadata": {
        "id": "Z3oEV5j2fTJl",
        "colab": {
          "base_uri": "https://localhost:8080/",
          "height": 740
        },
        "outputId": "9a012432-d4b2-4b70-9cbc-9e7aa33907c2"
      },
      "outputs": [
        {
          "output_type": "display_data",
          "data": {
            "text/plain": [
              "   Unnamed: 0 Unnamed: 1 Unnamed: 2           Unnamed: 3 Unnamed: 4\n",
              "0      Sr no.   Emp Name     Emp id                 Date     Leaves\n",
              "1           1    Ganesh        1001  2023-01-21 00:00:00          2\n",
              "2           2     Kartik       1002  2023-01-22 00:00:00          4\n",
              "3           3      Veera       1003  2023-01-23 00:00:00          8\n",
              "4           4  Sanskruti       1004  2023-01-24 00:00:00          6\n",
              "5           5    Archana       1005  2023-01-25 00:00:00          1\n",
              "6           6   Aradhana       1006  2023-01-26 00:00:00          2\n",
              "7           7    Pratham       1007  2023-01-27 00:00:00          3\n",
              "8           8     Sayali       1008  2023-01-28 00:00:00          5\n",
              "9           9     Smruti       1009  2023-01-29 00:00:00          9\n",
              "10         10      Vijay       1010  2023-01-30 00:00:00          7"
            ],
            "text/html": [
              "\n",
              "  <div id=\"df-f02d49ce-4ac0-4cb0-a4a6-e233ba435b9c\">\n",
              "    <div class=\"colab-df-container\">\n",
              "      <div>\n",
              "<style scoped>\n",
              "    .dataframe tbody tr th:only-of-type {\n",
              "        vertical-align: middle;\n",
              "    }\n",
              "\n",
              "    .dataframe tbody tr th {\n",
              "        vertical-align: top;\n",
              "    }\n",
              "\n",
              "    .dataframe thead th {\n",
              "        text-align: right;\n",
              "    }\n",
              "</style>\n",
              "<table border=\"1\" class=\"dataframe\">\n",
              "  <thead>\n",
              "    <tr style=\"text-align: right;\">\n",
              "      <th></th>\n",
              "      <th>Unnamed: 0</th>\n",
              "      <th>Unnamed: 1</th>\n",
              "      <th>Unnamed: 2</th>\n",
              "      <th>Unnamed: 3</th>\n",
              "      <th>Unnamed: 4</th>\n",
              "    </tr>\n",
              "  </thead>\n",
              "  <tbody>\n",
              "    <tr>\n",
              "      <th>0</th>\n",
              "      <td>Sr no.</td>\n",
              "      <td>Emp Name</td>\n",
              "      <td>Emp id</td>\n",
              "      <td>Date</td>\n",
              "      <td>Leaves</td>\n",
              "    </tr>\n",
              "    <tr>\n",
              "      <th>1</th>\n",
              "      <td>1</td>\n",
              "      <td>Ganesh</td>\n",
              "      <td>1001</td>\n",
              "      <td>2023-01-21 00:00:00</td>\n",
              "      <td>2</td>\n",
              "    </tr>\n",
              "    <tr>\n",
              "      <th>2</th>\n",
              "      <td>2</td>\n",
              "      <td>Kartik</td>\n",
              "      <td>1002</td>\n",
              "      <td>2023-01-22 00:00:00</td>\n",
              "      <td>4</td>\n",
              "    </tr>\n",
              "    <tr>\n",
              "      <th>3</th>\n",
              "      <td>3</td>\n",
              "      <td>Veera</td>\n",
              "      <td>1003</td>\n",
              "      <td>2023-01-23 00:00:00</td>\n",
              "      <td>8</td>\n",
              "    </tr>\n",
              "    <tr>\n",
              "      <th>4</th>\n",
              "      <td>4</td>\n",
              "      <td>Sanskruti</td>\n",
              "      <td>1004</td>\n",
              "      <td>2023-01-24 00:00:00</td>\n",
              "      <td>6</td>\n",
              "    </tr>\n",
              "    <tr>\n",
              "      <th>5</th>\n",
              "      <td>5</td>\n",
              "      <td>Archana</td>\n",
              "      <td>1005</td>\n",
              "      <td>2023-01-25 00:00:00</td>\n",
              "      <td>1</td>\n",
              "    </tr>\n",
              "    <tr>\n",
              "      <th>6</th>\n",
              "      <td>6</td>\n",
              "      <td>Aradhana</td>\n",
              "      <td>1006</td>\n",
              "      <td>2023-01-26 00:00:00</td>\n",
              "      <td>2</td>\n",
              "    </tr>\n",
              "    <tr>\n",
              "      <th>7</th>\n",
              "      <td>7</td>\n",
              "      <td>Pratham</td>\n",
              "      <td>1007</td>\n",
              "      <td>2023-01-27 00:00:00</td>\n",
              "      <td>3</td>\n",
              "    </tr>\n",
              "    <tr>\n",
              "      <th>8</th>\n",
              "      <td>8</td>\n",
              "      <td>Sayali</td>\n",
              "      <td>1008</td>\n",
              "      <td>2023-01-28 00:00:00</td>\n",
              "      <td>5</td>\n",
              "    </tr>\n",
              "    <tr>\n",
              "      <th>9</th>\n",
              "      <td>9</td>\n",
              "      <td>Smruti</td>\n",
              "      <td>1009</td>\n",
              "      <td>2023-01-29 00:00:00</td>\n",
              "      <td>9</td>\n",
              "    </tr>\n",
              "    <tr>\n",
              "      <th>10</th>\n",
              "      <td>10</td>\n",
              "      <td>Vijay</td>\n",
              "      <td>1010</td>\n",
              "      <td>2023-01-30 00:00:00</td>\n",
              "      <td>7</td>\n",
              "    </tr>\n",
              "  </tbody>\n",
              "</table>\n",
              "</div>\n",
              "      <button class=\"colab-df-convert\" onclick=\"convertToInteractive('df-f02d49ce-4ac0-4cb0-a4a6-e233ba435b9c')\"\n",
              "              title=\"Convert this dataframe to an interactive table.\"\n",
              "              style=\"display:none;\">\n",
              "        \n",
              "  <svg xmlns=\"http://www.w3.org/2000/svg\" height=\"24px\"viewBox=\"0 0 24 24\"\n",
              "       width=\"24px\">\n",
              "    <path d=\"M0 0h24v24H0V0z\" fill=\"none\"/>\n",
              "    <path d=\"M18.56 5.44l.94 2.06.94-2.06 2.06-.94-2.06-.94-.94-2.06-.94 2.06-2.06.94zm-11 1L8.5 8.5l.94-2.06 2.06-.94-2.06-.94L8.5 2.5l-.94 2.06-2.06.94zm10 10l.94 2.06.94-2.06 2.06-.94-2.06-.94-.94-2.06-.94 2.06-2.06.94z\"/><path d=\"M17.41 7.96l-1.37-1.37c-.4-.4-.92-.59-1.43-.59-.52 0-1.04.2-1.43.59L10.3 9.45l-7.72 7.72c-.78.78-.78 2.05 0 2.83L4 21.41c.39.39.9.59 1.41.59.51 0 1.02-.2 1.41-.59l7.78-7.78 2.81-2.81c.8-.78.8-2.07 0-2.86zM5.41 20L4 18.59l7.72-7.72 1.47 1.35L5.41 20z\"/>\n",
              "  </svg>\n",
              "      </button>\n",
              "      \n",
              "  <style>\n",
              "    .colab-df-container {\n",
              "      display:flex;\n",
              "      flex-wrap:wrap;\n",
              "      gap: 12px;\n",
              "    }\n",
              "\n",
              "    .colab-df-convert {\n",
              "      background-color: #E8F0FE;\n",
              "      border: none;\n",
              "      border-radius: 50%;\n",
              "      cursor: pointer;\n",
              "      display: none;\n",
              "      fill: #1967D2;\n",
              "      height: 32px;\n",
              "      padding: 0 0 0 0;\n",
              "      width: 32px;\n",
              "    }\n",
              "\n",
              "    .colab-df-convert:hover {\n",
              "      background-color: #E2EBFA;\n",
              "      box-shadow: 0px 1px 2px rgba(60, 64, 67, 0.3), 0px 1px 3px 1px rgba(60, 64, 67, 0.15);\n",
              "      fill: #174EA6;\n",
              "    }\n",
              "\n",
              "    [theme=dark] .colab-df-convert {\n",
              "      background-color: #3B4455;\n",
              "      fill: #D2E3FC;\n",
              "    }\n",
              "\n",
              "    [theme=dark] .colab-df-convert:hover {\n",
              "      background-color: #434B5C;\n",
              "      box-shadow: 0px 1px 3px 1px rgba(0, 0, 0, 0.15);\n",
              "      filter: drop-shadow(0px 1px 2px rgba(0, 0, 0, 0.3));\n",
              "      fill: #FFFFFF;\n",
              "    }\n",
              "  </style>\n",
              "\n",
              "      <script>\n",
              "        const buttonEl =\n",
              "          document.querySelector('#df-f02d49ce-4ac0-4cb0-a4a6-e233ba435b9c button.colab-df-convert');\n",
              "        buttonEl.style.display =\n",
              "          google.colab.kernel.accessAllowed ? 'block' : 'none';\n",
              "\n",
              "        async function convertToInteractive(key) {\n",
              "          const element = document.querySelector('#df-f02d49ce-4ac0-4cb0-a4a6-e233ba435b9c');\n",
              "          const dataTable =\n",
              "            await google.colab.kernel.invokeFunction('convertToInteractive',\n",
              "                                                     [key], {});\n",
              "          if (!dataTable) return;\n",
              "\n",
              "          const docLinkHtml = 'Like what you see? Visit the ' +\n",
              "            '<a target=\"_blank\" href=https://colab.research.google.com/notebooks/data_table.ipynb>data table notebook</a>'\n",
              "            + ' to learn more about interactive tables.';\n",
              "          element.innerHTML = '';\n",
              "          dataTable['output_type'] = 'display_data';\n",
              "          await google.colab.output.renderOutput(dataTable, element);\n",
              "          const docLink = document.createElement('div');\n",
              "          docLink.innerHTML = docLinkHtml;\n",
              "          element.appendChild(docLink);\n",
              "        }\n",
              "      </script>\n",
              "    </div>\n",
              "  </div>\n",
              "  "
            ]
          },
          "metadata": {}
        },
        {
          "output_type": "display_data",
          "data": {
            "text/plain": [
              "    Emp Name  Emp id  Salary\n",
              "0    Ganesh     1001   25000\n",
              "1     Kartik    1002   40000\n",
              "2      Veera    1003   80000\n",
              "3  Sanskruti    1004   60000\n",
              "4    Archana    1005   50000\n",
              "5   Aradhana    1006   30000\n",
              "6    Pratham    1007   15000\n",
              "7     Sayali    1008   55000\n",
              "8     Smruti    1009   80000\n",
              "9      Vijay    1010  100000"
            ],
            "text/html": [
              "\n",
              "  <div id=\"df-1b22bbcd-09c3-4397-83e3-11eda8a59297\">\n",
              "    <div class=\"colab-df-container\">\n",
              "      <div>\n",
              "<style scoped>\n",
              "    .dataframe tbody tr th:only-of-type {\n",
              "        vertical-align: middle;\n",
              "    }\n",
              "\n",
              "    .dataframe tbody tr th {\n",
              "        vertical-align: top;\n",
              "    }\n",
              "\n",
              "    .dataframe thead th {\n",
              "        text-align: right;\n",
              "    }\n",
              "</style>\n",
              "<table border=\"1\" class=\"dataframe\">\n",
              "  <thead>\n",
              "    <tr style=\"text-align: right;\">\n",
              "      <th></th>\n",
              "      <th>Emp Name</th>\n",
              "      <th>Emp id</th>\n",
              "      <th>Salary</th>\n",
              "    </tr>\n",
              "  </thead>\n",
              "  <tbody>\n",
              "    <tr>\n",
              "      <th>0</th>\n",
              "      <td>Ganesh</td>\n",
              "      <td>1001</td>\n",
              "      <td>25000</td>\n",
              "    </tr>\n",
              "    <tr>\n",
              "      <th>1</th>\n",
              "      <td>Kartik</td>\n",
              "      <td>1002</td>\n",
              "      <td>40000</td>\n",
              "    </tr>\n",
              "    <tr>\n",
              "      <th>2</th>\n",
              "      <td>Veera</td>\n",
              "      <td>1003</td>\n",
              "      <td>80000</td>\n",
              "    </tr>\n",
              "    <tr>\n",
              "      <th>3</th>\n",
              "      <td>Sanskruti</td>\n",
              "      <td>1004</td>\n",
              "      <td>60000</td>\n",
              "    </tr>\n",
              "    <tr>\n",
              "      <th>4</th>\n",
              "      <td>Archana</td>\n",
              "      <td>1005</td>\n",
              "      <td>50000</td>\n",
              "    </tr>\n",
              "    <tr>\n",
              "      <th>5</th>\n",
              "      <td>Aradhana</td>\n",
              "      <td>1006</td>\n",
              "      <td>30000</td>\n",
              "    </tr>\n",
              "    <tr>\n",
              "      <th>6</th>\n",
              "      <td>Pratham</td>\n",
              "      <td>1007</td>\n",
              "      <td>15000</td>\n",
              "    </tr>\n",
              "    <tr>\n",
              "      <th>7</th>\n",
              "      <td>Sayali</td>\n",
              "      <td>1008</td>\n",
              "      <td>55000</td>\n",
              "    </tr>\n",
              "    <tr>\n",
              "      <th>8</th>\n",
              "      <td>Smruti</td>\n",
              "      <td>1009</td>\n",
              "      <td>80000</td>\n",
              "    </tr>\n",
              "    <tr>\n",
              "      <th>9</th>\n",
              "      <td>Vijay</td>\n",
              "      <td>1010</td>\n",
              "      <td>100000</td>\n",
              "    </tr>\n",
              "  </tbody>\n",
              "</table>\n",
              "</div>\n",
              "      <button class=\"colab-df-convert\" onclick=\"convertToInteractive('df-1b22bbcd-09c3-4397-83e3-11eda8a59297')\"\n",
              "              title=\"Convert this dataframe to an interactive table.\"\n",
              "              style=\"display:none;\">\n",
              "        \n",
              "  <svg xmlns=\"http://www.w3.org/2000/svg\" height=\"24px\"viewBox=\"0 0 24 24\"\n",
              "       width=\"24px\">\n",
              "    <path d=\"M0 0h24v24H0V0z\" fill=\"none\"/>\n",
              "    <path d=\"M18.56 5.44l.94 2.06.94-2.06 2.06-.94-2.06-.94-.94-2.06-.94 2.06-2.06.94zm-11 1L8.5 8.5l.94-2.06 2.06-.94-2.06-.94L8.5 2.5l-.94 2.06-2.06.94zm10 10l.94 2.06.94-2.06 2.06-.94-2.06-.94-.94-2.06-.94 2.06-2.06.94z\"/><path d=\"M17.41 7.96l-1.37-1.37c-.4-.4-.92-.59-1.43-.59-.52 0-1.04.2-1.43.59L10.3 9.45l-7.72 7.72c-.78.78-.78 2.05 0 2.83L4 21.41c.39.39.9.59 1.41.59.51 0 1.02-.2 1.41-.59l7.78-7.78 2.81-2.81c.8-.78.8-2.07 0-2.86zM5.41 20L4 18.59l7.72-7.72 1.47 1.35L5.41 20z\"/>\n",
              "  </svg>\n",
              "      </button>\n",
              "      \n",
              "  <style>\n",
              "    .colab-df-container {\n",
              "      display:flex;\n",
              "      flex-wrap:wrap;\n",
              "      gap: 12px;\n",
              "    }\n",
              "\n",
              "    .colab-df-convert {\n",
              "      background-color: #E8F0FE;\n",
              "      border: none;\n",
              "      border-radius: 50%;\n",
              "      cursor: pointer;\n",
              "      display: none;\n",
              "      fill: #1967D2;\n",
              "      height: 32px;\n",
              "      padding: 0 0 0 0;\n",
              "      width: 32px;\n",
              "    }\n",
              "\n",
              "    .colab-df-convert:hover {\n",
              "      background-color: #E2EBFA;\n",
              "      box-shadow: 0px 1px 2px rgba(60, 64, 67, 0.3), 0px 1px 3px 1px rgba(60, 64, 67, 0.15);\n",
              "      fill: #174EA6;\n",
              "    }\n",
              "\n",
              "    [theme=dark] .colab-df-convert {\n",
              "      background-color: #3B4455;\n",
              "      fill: #D2E3FC;\n",
              "    }\n",
              "\n",
              "    [theme=dark] .colab-df-convert:hover {\n",
              "      background-color: #434B5C;\n",
              "      box-shadow: 0px 1px 3px 1px rgba(0, 0, 0, 0.15);\n",
              "      filter: drop-shadow(0px 1px 2px rgba(0, 0, 0, 0.3));\n",
              "      fill: #FFFFFF;\n",
              "    }\n",
              "  </style>\n",
              "\n",
              "      <script>\n",
              "        const buttonEl =\n",
              "          document.querySelector('#df-1b22bbcd-09c3-4397-83e3-11eda8a59297 button.colab-df-convert');\n",
              "        buttonEl.style.display =\n",
              "          google.colab.kernel.accessAllowed ? 'block' : 'none';\n",
              "\n",
              "        async function convertToInteractive(key) {\n",
              "          const element = document.querySelector('#df-1b22bbcd-09c3-4397-83e3-11eda8a59297');\n",
              "          const dataTable =\n",
              "            await google.colab.kernel.invokeFunction('convertToInteractive',\n",
              "                                                     [key], {});\n",
              "          if (!dataTable) return;\n",
              "\n",
              "          const docLinkHtml = 'Like what you see? Visit the ' +\n",
              "            '<a target=\"_blank\" href=https://colab.research.google.com/notebooks/data_table.ipynb>data table notebook</a>'\n",
              "            + ' to learn more about interactive tables.';\n",
              "          element.innerHTML = '';\n",
              "          dataTable['output_type'] = 'display_data';\n",
              "          await google.colab.output.renderOutput(dataTable, element);\n",
              "          const docLink = document.createElement('div');\n",
              "          docLink.innerHTML = docLinkHtml;\n",
              "          element.appendChild(docLink);\n",
              "        }\n",
              "      </script>\n",
              "    </div>\n",
              "  </div>\n",
              "  "
            ]
          },
          "metadata": {}
        }
      ],
      "source": [
        "import pandas as pd\n",
        "df = pd.read_excel('/content/drive/MyDrive/Emp.xlsx')\n",
        "display(df)\n",
        "df1= pd.read_excel('/content/drive/MyDrive/sal.xlsx')\n",
        "display(df1)\n"
      ]
    },
    {
      "cell_type": "code",
      "source": [
        "import pandas as pa\n",
        "df1.sort_values(by=[\"Salary\"])"
      ],
      "metadata": {
        "colab": {
          "base_uri": "https://localhost:8080/",
          "height": 363
        },
        "id": "IHdjgWBgl5Qx",
        "outputId": "40aee0a5-d63c-439c-db1b-b16f73e4d51d"
      },
      "execution_count": null,
      "outputs": [
        {
          "output_type": "execute_result",
          "data": {
            "text/plain": [
              "    Emp Name  Emp id  Salary\n",
              "6    Pratham    1007   15000\n",
              "0    Ganesh     1001   25000\n",
              "5   Aradhana    1006   30000\n",
              "1     Kartik    1002   40000\n",
              "4    Archana    1005   50000\n",
              "7     Sayali    1008   55000\n",
              "3  Sanskruti    1004   60000\n",
              "2      Veera    1003   80000\n",
              "8     Smruti    1009   80000\n",
              "9      Vijay    1010  100000"
            ],
            "text/html": [
              "\n",
              "  <div id=\"df-05f6860a-1162-4d6d-b040-b42d5e9368c6\">\n",
              "    <div class=\"colab-df-container\">\n",
              "      <div>\n",
              "<style scoped>\n",
              "    .dataframe tbody tr th:only-of-type {\n",
              "        vertical-align: middle;\n",
              "    }\n",
              "\n",
              "    .dataframe tbody tr th {\n",
              "        vertical-align: top;\n",
              "    }\n",
              "\n",
              "    .dataframe thead th {\n",
              "        text-align: right;\n",
              "    }\n",
              "</style>\n",
              "<table border=\"1\" class=\"dataframe\">\n",
              "  <thead>\n",
              "    <tr style=\"text-align: right;\">\n",
              "      <th></th>\n",
              "      <th>Emp Name</th>\n",
              "      <th>Emp id</th>\n",
              "      <th>Salary</th>\n",
              "    </tr>\n",
              "  </thead>\n",
              "  <tbody>\n",
              "    <tr>\n",
              "      <th>6</th>\n",
              "      <td>Pratham</td>\n",
              "      <td>1007</td>\n",
              "      <td>15000</td>\n",
              "    </tr>\n",
              "    <tr>\n",
              "      <th>0</th>\n",
              "      <td>Ganesh</td>\n",
              "      <td>1001</td>\n",
              "      <td>25000</td>\n",
              "    </tr>\n",
              "    <tr>\n",
              "      <th>5</th>\n",
              "      <td>Aradhana</td>\n",
              "      <td>1006</td>\n",
              "      <td>30000</td>\n",
              "    </tr>\n",
              "    <tr>\n",
              "      <th>1</th>\n",
              "      <td>Kartik</td>\n",
              "      <td>1002</td>\n",
              "      <td>40000</td>\n",
              "    </tr>\n",
              "    <tr>\n",
              "      <th>4</th>\n",
              "      <td>Archana</td>\n",
              "      <td>1005</td>\n",
              "      <td>50000</td>\n",
              "    </tr>\n",
              "    <tr>\n",
              "      <th>7</th>\n",
              "      <td>Sayali</td>\n",
              "      <td>1008</td>\n",
              "      <td>55000</td>\n",
              "    </tr>\n",
              "    <tr>\n",
              "      <th>3</th>\n",
              "      <td>Sanskruti</td>\n",
              "      <td>1004</td>\n",
              "      <td>60000</td>\n",
              "    </tr>\n",
              "    <tr>\n",
              "      <th>2</th>\n",
              "      <td>Veera</td>\n",
              "      <td>1003</td>\n",
              "      <td>80000</td>\n",
              "    </tr>\n",
              "    <tr>\n",
              "      <th>8</th>\n",
              "      <td>Smruti</td>\n",
              "      <td>1009</td>\n",
              "      <td>80000</td>\n",
              "    </tr>\n",
              "    <tr>\n",
              "      <th>9</th>\n",
              "      <td>Vijay</td>\n",
              "      <td>1010</td>\n",
              "      <td>100000</td>\n",
              "    </tr>\n",
              "  </tbody>\n",
              "</table>\n",
              "</div>\n",
              "      <button class=\"colab-df-convert\" onclick=\"convertToInteractive('df-05f6860a-1162-4d6d-b040-b42d5e9368c6')\"\n",
              "              title=\"Convert this dataframe to an interactive table.\"\n",
              "              style=\"display:none;\">\n",
              "        \n",
              "  <svg xmlns=\"http://www.w3.org/2000/svg\" height=\"24px\"viewBox=\"0 0 24 24\"\n",
              "       width=\"24px\">\n",
              "    <path d=\"M0 0h24v24H0V0z\" fill=\"none\"/>\n",
              "    <path d=\"M18.56 5.44l.94 2.06.94-2.06 2.06-.94-2.06-.94-.94-2.06-.94 2.06-2.06.94zm-11 1L8.5 8.5l.94-2.06 2.06-.94-2.06-.94L8.5 2.5l-.94 2.06-2.06.94zm10 10l.94 2.06.94-2.06 2.06-.94-2.06-.94-.94-2.06-.94 2.06-2.06.94z\"/><path d=\"M17.41 7.96l-1.37-1.37c-.4-.4-.92-.59-1.43-.59-.52 0-1.04.2-1.43.59L10.3 9.45l-7.72 7.72c-.78.78-.78 2.05 0 2.83L4 21.41c.39.39.9.59 1.41.59.51 0 1.02-.2 1.41-.59l7.78-7.78 2.81-2.81c.8-.78.8-2.07 0-2.86zM5.41 20L4 18.59l7.72-7.72 1.47 1.35L5.41 20z\"/>\n",
              "  </svg>\n",
              "      </button>\n",
              "      \n",
              "  <style>\n",
              "    .colab-df-container {\n",
              "      display:flex;\n",
              "      flex-wrap:wrap;\n",
              "      gap: 12px;\n",
              "    }\n",
              "\n",
              "    .colab-df-convert {\n",
              "      background-color: #E8F0FE;\n",
              "      border: none;\n",
              "      border-radius: 50%;\n",
              "      cursor: pointer;\n",
              "      display: none;\n",
              "      fill: #1967D2;\n",
              "      height: 32px;\n",
              "      padding: 0 0 0 0;\n",
              "      width: 32px;\n",
              "    }\n",
              "\n",
              "    .colab-df-convert:hover {\n",
              "      background-color: #E2EBFA;\n",
              "      box-shadow: 0px 1px 2px rgba(60, 64, 67, 0.3), 0px 1px 3px 1px rgba(60, 64, 67, 0.15);\n",
              "      fill: #174EA6;\n",
              "    }\n",
              "\n",
              "    [theme=dark] .colab-df-convert {\n",
              "      background-color: #3B4455;\n",
              "      fill: #D2E3FC;\n",
              "    }\n",
              "\n",
              "    [theme=dark] .colab-df-convert:hover {\n",
              "      background-color: #434B5C;\n",
              "      box-shadow: 0px 1px 3px 1px rgba(0, 0, 0, 0.15);\n",
              "      filter: drop-shadow(0px 1px 2px rgba(0, 0, 0, 0.3));\n",
              "      fill: #FFFFFF;\n",
              "    }\n",
              "  </style>\n",
              "\n",
              "      <script>\n",
              "        const buttonEl =\n",
              "          document.querySelector('#df-05f6860a-1162-4d6d-b040-b42d5e9368c6 button.colab-df-convert');\n",
              "        buttonEl.style.display =\n",
              "          google.colab.kernel.accessAllowed ? 'block' : 'none';\n",
              "\n",
              "        async function convertToInteractive(key) {\n",
              "          const element = document.querySelector('#df-05f6860a-1162-4d6d-b040-b42d5e9368c6');\n",
              "          const dataTable =\n",
              "            await google.colab.kernel.invokeFunction('convertToInteractive',\n",
              "                                                     [key], {});\n",
              "          if (!dataTable) return;\n",
              "\n",
              "          const docLinkHtml = 'Like what you see? Visit the ' +\n",
              "            '<a target=\"_blank\" href=https://colab.research.google.com/notebooks/data_table.ipynb>data table notebook</a>'\n",
              "            + ' to learn more about interactive tables.';\n",
              "          element.innerHTML = '';\n",
              "          dataTable['output_type'] = 'display_data';\n",
              "          await google.colab.output.renderOutput(dataTable, element);\n",
              "          const docLink = document.createElement('div');\n",
              "          docLink.innerHTML = docLinkHtml;\n",
              "          element.appendChild(docLink);\n",
              "        }\n",
              "      </script>\n",
              "    </div>\n",
              "  </div>\n",
              "  "
            ]
          },
          "metadata": {},
          "execution_count": 8
        }
      ]
    },
    {
      "cell_type": "code",
      "source": [
        "df1.sort_values(by=[\"Salary\"], ascending=False)"
      ],
      "metadata": {
        "colab": {
          "base_uri": "https://localhost:8080/",
          "height": 363
        },
        "id": "XaBDYw1cmnBB",
        "outputId": "450221fc-07e9-44db-9186-b2ee04297fd4"
      },
      "execution_count": null,
      "outputs": [
        {
          "output_type": "execute_result",
          "data": {
            "text/plain": [
              "    Emp Name  Emp id  Salary\n",
              "9      Vijay    1010  100000\n",
              "2      Veera    1003   80000\n",
              "8     Smruti    1009   80000\n",
              "3  Sanskruti    1004   60000\n",
              "7     Sayali    1008   55000\n",
              "4    Archana    1005   50000\n",
              "1     Kartik    1002   40000\n",
              "5   Aradhana    1006   30000\n",
              "0    Ganesh     1001   25000\n",
              "6    Pratham    1007   15000"
            ],
            "text/html": [
              "\n",
              "  <div id=\"df-29048f8b-dddf-4de5-b223-75c6555d98e0\">\n",
              "    <div class=\"colab-df-container\">\n",
              "      <div>\n",
              "<style scoped>\n",
              "    .dataframe tbody tr th:only-of-type {\n",
              "        vertical-align: middle;\n",
              "    }\n",
              "\n",
              "    .dataframe tbody tr th {\n",
              "        vertical-align: top;\n",
              "    }\n",
              "\n",
              "    .dataframe thead th {\n",
              "        text-align: right;\n",
              "    }\n",
              "</style>\n",
              "<table border=\"1\" class=\"dataframe\">\n",
              "  <thead>\n",
              "    <tr style=\"text-align: right;\">\n",
              "      <th></th>\n",
              "      <th>Emp Name</th>\n",
              "      <th>Emp id</th>\n",
              "      <th>Salary</th>\n",
              "    </tr>\n",
              "  </thead>\n",
              "  <tbody>\n",
              "    <tr>\n",
              "      <th>9</th>\n",
              "      <td>Vijay</td>\n",
              "      <td>1010</td>\n",
              "      <td>100000</td>\n",
              "    </tr>\n",
              "    <tr>\n",
              "      <th>2</th>\n",
              "      <td>Veera</td>\n",
              "      <td>1003</td>\n",
              "      <td>80000</td>\n",
              "    </tr>\n",
              "    <tr>\n",
              "      <th>8</th>\n",
              "      <td>Smruti</td>\n",
              "      <td>1009</td>\n",
              "      <td>80000</td>\n",
              "    </tr>\n",
              "    <tr>\n",
              "      <th>3</th>\n",
              "      <td>Sanskruti</td>\n",
              "      <td>1004</td>\n",
              "      <td>60000</td>\n",
              "    </tr>\n",
              "    <tr>\n",
              "      <th>7</th>\n",
              "      <td>Sayali</td>\n",
              "      <td>1008</td>\n",
              "      <td>55000</td>\n",
              "    </tr>\n",
              "    <tr>\n",
              "      <th>4</th>\n",
              "      <td>Archana</td>\n",
              "      <td>1005</td>\n",
              "      <td>50000</td>\n",
              "    </tr>\n",
              "    <tr>\n",
              "      <th>1</th>\n",
              "      <td>Kartik</td>\n",
              "      <td>1002</td>\n",
              "      <td>40000</td>\n",
              "    </tr>\n",
              "    <tr>\n",
              "      <th>5</th>\n",
              "      <td>Aradhana</td>\n",
              "      <td>1006</td>\n",
              "      <td>30000</td>\n",
              "    </tr>\n",
              "    <tr>\n",
              "      <th>0</th>\n",
              "      <td>Ganesh</td>\n",
              "      <td>1001</td>\n",
              "      <td>25000</td>\n",
              "    </tr>\n",
              "    <tr>\n",
              "      <th>6</th>\n",
              "      <td>Pratham</td>\n",
              "      <td>1007</td>\n",
              "      <td>15000</td>\n",
              "    </tr>\n",
              "  </tbody>\n",
              "</table>\n",
              "</div>\n",
              "      <button class=\"colab-df-convert\" onclick=\"convertToInteractive('df-29048f8b-dddf-4de5-b223-75c6555d98e0')\"\n",
              "              title=\"Convert this dataframe to an interactive table.\"\n",
              "              style=\"display:none;\">\n",
              "        \n",
              "  <svg xmlns=\"http://www.w3.org/2000/svg\" height=\"24px\"viewBox=\"0 0 24 24\"\n",
              "       width=\"24px\">\n",
              "    <path d=\"M0 0h24v24H0V0z\" fill=\"none\"/>\n",
              "    <path d=\"M18.56 5.44l.94 2.06.94-2.06 2.06-.94-2.06-.94-.94-2.06-.94 2.06-2.06.94zm-11 1L8.5 8.5l.94-2.06 2.06-.94-2.06-.94L8.5 2.5l-.94 2.06-2.06.94zm10 10l.94 2.06.94-2.06 2.06-.94-2.06-.94-.94-2.06-.94 2.06-2.06.94z\"/><path d=\"M17.41 7.96l-1.37-1.37c-.4-.4-.92-.59-1.43-.59-.52 0-1.04.2-1.43.59L10.3 9.45l-7.72 7.72c-.78.78-.78 2.05 0 2.83L4 21.41c.39.39.9.59 1.41.59.51 0 1.02-.2 1.41-.59l7.78-7.78 2.81-2.81c.8-.78.8-2.07 0-2.86zM5.41 20L4 18.59l7.72-7.72 1.47 1.35L5.41 20z\"/>\n",
              "  </svg>\n",
              "      </button>\n",
              "      \n",
              "  <style>\n",
              "    .colab-df-container {\n",
              "      display:flex;\n",
              "      flex-wrap:wrap;\n",
              "      gap: 12px;\n",
              "    }\n",
              "\n",
              "    .colab-df-convert {\n",
              "      background-color: #E8F0FE;\n",
              "      border: none;\n",
              "      border-radius: 50%;\n",
              "      cursor: pointer;\n",
              "      display: none;\n",
              "      fill: #1967D2;\n",
              "      height: 32px;\n",
              "      padding: 0 0 0 0;\n",
              "      width: 32px;\n",
              "    }\n",
              "\n",
              "    .colab-df-convert:hover {\n",
              "      background-color: #E2EBFA;\n",
              "      box-shadow: 0px 1px 2px rgba(60, 64, 67, 0.3), 0px 1px 3px 1px rgba(60, 64, 67, 0.15);\n",
              "      fill: #174EA6;\n",
              "    }\n",
              "\n",
              "    [theme=dark] .colab-df-convert {\n",
              "      background-color: #3B4455;\n",
              "      fill: #D2E3FC;\n",
              "    }\n",
              "\n",
              "    [theme=dark] .colab-df-convert:hover {\n",
              "      background-color: #434B5C;\n",
              "      box-shadow: 0px 1px 3px 1px rgba(0, 0, 0, 0.15);\n",
              "      filter: drop-shadow(0px 1px 2px rgba(0, 0, 0, 0.3));\n",
              "      fill: #FFFFFF;\n",
              "    }\n",
              "  </style>\n",
              "\n",
              "      <script>\n",
              "        const buttonEl =\n",
              "          document.querySelector('#df-29048f8b-dddf-4de5-b223-75c6555d98e0 button.colab-df-convert');\n",
              "        buttonEl.style.display =\n",
              "          google.colab.kernel.accessAllowed ? 'block' : 'none';\n",
              "\n",
              "        async function convertToInteractive(key) {\n",
              "          const element = document.querySelector('#df-29048f8b-dddf-4de5-b223-75c6555d98e0');\n",
              "          const dataTable =\n",
              "            await google.colab.kernel.invokeFunction('convertToInteractive',\n",
              "                                                     [key], {});\n",
              "          if (!dataTable) return;\n",
              "\n",
              "          const docLinkHtml = 'Like what you see? Visit the ' +\n",
              "            '<a target=\"_blank\" href=https://colab.research.google.com/notebooks/data_table.ipynb>data table notebook</a>'\n",
              "            + ' to learn more about interactive tables.';\n",
              "          element.innerHTML = '';\n",
              "          dataTable['output_type'] = 'display_data';\n",
              "          await google.colab.output.renderOutput(dataTable, element);\n",
              "          const docLink = document.createElement('div');\n",
              "          docLink.innerHTML = docLinkHtml;\n",
              "          element.appendChild(docLink);\n",
              "        }\n",
              "      </script>\n",
              "    </div>\n",
              "  </div>\n",
              "  "
            ]
          },
          "metadata": {},
          "execution_count": 14
        }
      ]
    },
    {
      "cell_type": "code",
      "source": [
        "# Define a dictionary to store employee data\n",
        "employees = {}\n",
        "\n",
        "# Ask the user for the number of employees\n",
        "num_employees = int(input(\"How many employees do you want to add? \"))\n",
        "\n",
        "# Loop through each employee and ask for their name and salary\n",
        "for i in range(num_employees):\n",
        "    name = input(\"Enter employee name: \")\n",
        "    salary = float(input(\"Enter employee salary: \"))\n",
        "    employees[name] = salary\n",
        "\n",
        "# Find the manager with the highest salary and the HR person with the second highest salary\n",
        "sorted_salaries = sorted(employees.values(), reverse=True)\n",
        "manager_salary = sorted_salaries[0]\n",
        "hr_salary = sorted_salaries[1]\n",
        "\n",
        "manager = \"\"\n",
        "hr = \"\"\n",
        "\n",
        "for name, salary in employees.items():\n",
        "    if salary == manager_salary:\n",
        "        manager = name\n",
        "    elif salary == hr_salary:\n",
        "        hr = name\n",
        "\n",
        "# Calculate the total expenditure on employee salaries\n",
        "total_expenditure = sum(employees.values())\n",
        "\n",
        "# Display the results\n",
        "print(\"Manager with highest salary: \", manager)\n",
        "print(\"HR with second highest salary: \", hr)\n",
        "print(\"Total expenditure on salaries: \", total_expenditure)"
      ],
      "metadata": {
        "colab": {
          "base_uri": "https://localhost:8080/"
        },
        "id": "oMPcs6gnbjul",
        "outputId": "60366600-2a67-4f5c-b5df-4edd971ab22d"
      },
      "execution_count": null,
      "outputs": [
        {
          "output_type": "stream",
          "name": "stdout",
          "text": [
            "How many employees do you want to add? 5\n",
            "Enter employee name: s\n",
            "Enter employee salary: 1\n",
            "Enter employee name: u\n",
            "Enter employee salary: 2\n",
            "Enter employee name: y\n",
            "Enter employee salary: 3\n",
            "Enter employee name: a\n",
            "Enter employee salary: 4\n",
            "Enter employee name: s\n",
            "Enter employee salary: 5\n",
            "Manager with highest salary:  s\n",
            "HR with second highest salary:  a\n",
            "Total expenditure on salaries:  14.0\n"
          ]
        }
      ]
    },
    {
      "cell_type": "code",
      "source": [
        "import pandas as pd\n",
        "df = pd.read_excel('/content/drive/MyDrive/sal.xlsx')\n",
        "print(df.values.tolist())"
      ],
      "metadata": {
        "colab": {
          "base_uri": "https://localhost:8080/"
        },
        "id": "OFRgi8ERXoIn",
        "outputId": "0a3d962f-2e89-44bb-8312-941c1200e482"
      },
      "execution_count": null,
      "outputs": [
        {
          "output_type": "stream",
          "name": "stdout",
          "text": [
            "[['Ganesh ', 1001, 25000], ['Kartik', 1002, 40000], ['Veera', 1003, 80000], ['Sanskruti', 1004, 60000], ['Archana', 1005, 50000], ['Aradhana', 1006, 30000], ['Pratham', 1007, 15000], ['Sayali', 1008, 55000], ['Smruti', 1009, 80000], ['Vijay', 1010, 100000]]\n"
          ]
        }
      ]
    },
    {
      "cell_type": "code",
      "source": [
        "#dictionary operations\n",
        "dict1 = {\"ABC\":2742023, \"EDF\":89}\n",
        "print(dict1)\n",
        "print(dict1.keys())\n",
        "print(dict1.values())\n",
        "dict1.update({\"SCE\":8-9-2022})\n",
        "print(dict1)\n",
        "a = dict1.__len__()\n",
        "print(a)\n",
        "dict1.pop(\"SCE\")\n",
        "print(dict1)\n"
      ],
      "metadata": {
        "id": "5tAqFwqiUXo7",
        "colab": {
          "base_uri": "https://localhost:8080/"
        },
        "outputId": "c1634d7b-9395-4fb3-9b6c-0b79b2468611"
      },
      "execution_count": null,
      "outputs": [
        {
          "output_type": "stream",
          "name": "stdout",
          "text": [
            "{'ABC': 2742023, 'EDF': 89}\n",
            "dict_keys(['ABC', 'EDF'])\n",
            "dict_values([2742023, 89])\n",
            "{'ABC': 2742023, 'EDF': 89, 'SCE': -2023}\n",
            "3\n",
            "{'ABC': 2742023, 'EDF': 89}\n"
          ]
        }
      ]
    },
    {
      "cell_type": "code",
      "source": [
        "#sales\n",
        "import pandas as pd\n",
        "df = pd.read_csv('/content/drive/MyDrive/csv')\n",
        "print(df.values.tolist())"
      ],
      "metadata": {
        "colab": {
          "base_uri": "https://localhost:8080/"
        },
        "id": "uMcIkVqbYtDF",
        "outputId": "365aad36-5ed8-4e03-c8a4-1f77f20df439"
      },
      "execution_count": null,
      "outputs": [
        {
          "output_type": "stream",
          "name": "stdout",
          "text": [
            "[['ms1001', 'item1', 100, 75, 30, 4500], ['ms1002', 'item2', 150, 100, 75, 3675], ['ms1003', 'item3', 200, 150, 100, 4567], ['ms1004', 'item4', 250, 200, 125, 7654], ['ms1005', 'item5', 300, 250, 150, 9876], ['ms1006', 'item6', 350, 300, 175, 3456], ['ms1007', 'item7', 400, 350, 200, 2345], ['ms1008', 'item8', 450, 400, 225, 8708], ['ms1009', 'item9', 500, 450, 250, 2345], ['ms1010', 'item10', 550, 500, 300, 7886], ['ms1011', 'item11', 600, 550, 350, 5647], ['ms1012', 'item12', 650, 600, 400, 9876], ['ms1013', 'item13', 700, 650, 450, 2854], ['ms1014', 'item14', 750, 700, 500, 9735], ['ms1015', 'item15', 800, 750, 550, 5247], ['ms1016', 'item16', 850, 800, 600, 8765], ['ms1017', 'item17', 900, 850, 650, 9467], ['ms1018', 'item18', 950, 900, 700, 2745], ['ms1019', 'item19', 1000, 950, 750, 9476], ['ms1020', 'item20', 1050, 1000, 800, 7489]]\n"
          ]
        }
      ]
    },
    {
      "cell_type": "code",
      "source": [
        "#supplier\n",
        "import pandas as pd\n",
        "df = pd.read_csv('/content/drive/MyDrive/EMT1579-1580.csv')\n",
        "print(df.values.tolist())"
      ],
      "metadata": {
        "id": "YnzXPl6slhzp",
        "colab": {
          "base_uri": "https://localhost:8080/"
        },
        "outputId": "fb36ab2c-79ee-4233-ba44-a8663e1932b2"
      },
      "execution_count": null,
      "outputs": [
        {
          "output_type": "stream",
          "name": "stdout",
          "text": [
            "[[100000069.0, 'A', 500062.0, 'E', 'India', nan, nan, nan, nan], [100000069.0, 'A', 503148.0, 'F', 'India', nan, nan, nan, nan], [100000069.0, 'A', 505962.0, 'G', 'India', nan, nan, nan, nan], [100000070.0, 'B', 512846.0, 'H', 'Germany', nan, nan, nan, nan], [100000070.0, 'B', 500305.0, 'I', 'India', nan, nan, nan, nan], [100000070.0, 'B', 519103.0, 'J', 'Japan', nan, nan, nan, nan], [100000070.0, 'B', 502520.0, 'K', 'Taiwan', nan, nan, nan, nan], [100000070.0, 'B', 536536.0, 'L', 'USA', nan, nan, nan, nan], [100000102.0, 'C', 505962.0, 'M', 'India', nan, nan, nan, nan], [100000102.0, 'C', 524767.0, 'N', 'Korea', nan, nan, nan, nan], [100000112.0, 'D', 504609.0, 'O', 'India', nan, nan, nan, nan], [100000112.0, 'D', 510821.0, 'P', 'Korea', nan, nan, nan, nan], [100000069.0, 'A', 500062.0, 'E', 'India', nan, nan, nan, nan], [100000069.0, 'A', 503148.0, 'F', 'India', nan, nan, nan, nan], [100000069.0, 'A', 500062.0, 'E', 'India', nan, nan, nan, nan], [100000069.0, 'A', 500062.0, 'E', 'India', nan, nan, nan, nan], [100000102.0, 'C', 524767.0, 'N', 'Korea', nan, nan, nan, nan], [100000112.0, 'D', 510821.0, 'P', 'Korea', nan, nan, nan, nan], [100000070.0, 'B', 500305.0, 'I', 'India', nan, nan, nan, nan], [nan, nan, nan, nan, nan, nan, nan, nan, nan], [nan, nan, nan, nan, nan, nan, nan, nan, nan], [nan, nan, nan, nan, nan, nan, nan, nan, nan], [nan, nan, nan, nan, nan, nan, nan, nan, nan], [nan, nan, nan, nan, nan, nan, nan, nan, nan], [nan, nan, nan, nan, nan, nan, nan, nan, nan], [nan, nan, nan, nan, nan, nan, nan, nan, nan], [nan, nan, nan, nan, nan, nan, nan, nan, nan], [nan, nan, nan, nan, nan, nan, nan, nan, nan], [nan, nan, nan, nan, nan, nan, nan, nan, nan], [nan, nan, nan, nan, nan, nan, nan, nan, nan], [nan, nan, nan, nan, nan, nan, nan, nan, nan], [nan, nan, nan, nan, nan, nan, nan, nan, nan], [nan, nan, nan, nan, nan, nan, nan, nan, nan], [nan, nan, nan, nan, nan, nan, nan, nan, nan], [nan, nan, nan, nan, nan, nan, nan, nan, nan], [nan, nan, nan, nan, nan, nan, nan, nan, nan], [nan, nan, nan, nan, nan, nan, nan, nan, nan]]\n"
          ]
        }
      ]
    },
    {
      "cell_type": "code",
      "source": [
        "#set\n",
        "s1={10,20,30}\n",
        "for i in s1:\n",
        "  print(s1)"
      ],
      "metadata": {
        "colab": {
          "base_uri": "https://localhost:8080/"
        },
        "id": "pIit3MddGcoI",
        "outputId": "8b6f3609-7a2c-4f6d-84ad-9bf5aa8537bd"
      },
      "execution_count": null,
      "outputs": [
        {
          "output_type": "stream",
          "name": "stdout",
          "text": [
            "{10, 20, 30}\n",
            "{10, 20, 30}\n",
            "{10, 20, 30}\n"
          ]
        }
      ]
    },
    {
      "cell_type": "code",
      "source": [
        "#add single element\n",
        "s1 = {10,11,12}\n",
        "s1.add(5)\n",
        "print(s1)"
      ],
      "metadata": {
        "colab": {
          "base_uri": "https://localhost:8080/"
        },
        "id": "70bzGo5EK7zi",
        "outputId": "507abd8e-3c38-47cf-fff4-5e658470e9f7"
      },
      "execution_count": null,
      "outputs": [
        {
          "output_type": "stream",
          "name": "stdout",
          "text": [
            "{10, 11, 12, 5}\n"
          ]
        }
      ]
    },
    {
      "cell_type": "code",
      "source": [
        "#add multiple elements\n",
        "s1 = {10,11,12}\n",
        "s1.update((7,8,1))\n",
        "print(s1)\n"
      ],
      "metadata": {
        "colab": {
          "base_uri": "https://localhost:8080/"
        },
        "id": "3Krq2CEkLPg8",
        "outputId": "33683fde-cf33-4658-df34-820decd6dfc4"
      },
      "execution_count": null,
      "outputs": [
        {
          "output_type": "stream",
          "name": "stdout",
          "text": [
            "{1, 7, 8, 10, 11, 12}\n"
          ]
        }
      ]
    },
    {
      "cell_type": "code",
      "source": [
        "#remove and discard\n",
        "s1 = {2,3,4,6}\n",
        "s1.discard(7)\n",
        "print(s1)"
      ],
      "metadata": {
        "colab": {
          "base_uri": "https://localhost:8080/"
        },
        "id": "VTb0iJA5Lhr5",
        "outputId": "2790effc-42cd-466d-ebc0-ac185c0fcee2"
      },
      "execution_count": null,
      "outputs": [
        {
          "output_type": "stream",
          "name": "stdout",
          "text": [
            "{2, 3, 4, 6}\n"
          ]
        }
      ]
    },
    {
      "cell_type": "code",
      "source": [
        "#set union\n",
        "t1={1,2,3,4,8}\n",
        "t2={5,6,7,8}\n",
        "c1=t1|t2\n",
        "print(c1)"
      ],
      "metadata": {
        "colab": {
          "base_uri": "https://localhost:8080/"
        },
        "id": "4RjSiwjdL8M6",
        "outputId": "88cc34ee-89f0-43e2-db23-f0fd89219836"
      },
      "execution_count": null,
      "outputs": [
        {
          "output_type": "stream",
          "name": "stdout",
          "text": [
            "{1, 2, 3, 4, 5, 6, 7, 8}\n"
          ]
        }
      ]
    },
    {
      "cell_type": "code",
      "source": [
        "#intersection\n",
        "i1=t1 & t2\n",
        "print(i1)"
      ],
      "metadata": {
        "colab": {
          "base_uri": "https://localhost:8080/"
        },
        "id": "JI-icGz8MLxv",
        "outputId": "eb687d39-e5df-4ea3-8beb-1e35fe7f494c"
      },
      "execution_count": null,
      "outputs": [
        {
          "output_type": "stream",
          "name": "stdout",
          "text": [
            "{8}\n"
          ]
        }
      ]
    },
    {
      "cell_type": "code",
      "source": [
        "#set difference\n",
        "i1= t1-t2\n",
        "print(i1)"
      ],
      "metadata": {
        "colab": {
          "base_uri": "https://localhost:8080/"
        },
        "id": "jAeNnOJuMld3",
        "outputId": "fafa9dee-eecb-44d5-fc11-dd83b3d39174"
      },
      "execution_count": null,
      "outputs": [
        {
          "output_type": "stream",
          "name": "stdout",
          "text": [
            "{1, 2, 3, 4}\n"
          ]
        }
      ]
    },
    {
      "cell_type": "code",
      "source": [
        "#symmetric difference\n",
        "t1= {10,20,30,40,50,60,1,15,11,2003,12}\n",
        "t2= {50,1,11,2003,60,70}\n",
        "i1 = t1 ^ t2\n",
        "print(i1)\n"
      ],
      "metadata": {
        "colab": {
          "base_uri": "https://localhost:8080/"
        },
        "id": "AhHht4hMM6lF",
        "outputId": "d228780f-0804-45b6-96e7-580cd1e3bccb"
      },
      "execution_count": null,
      "outputs": [
        {
          "output_type": "stream",
          "name": "stdout",
          "text": [
            "{70, 40, 10, 12, 15, 20, 30}\n"
          ]
        }
      ]
    },
    {
      "cell_type": "code",
      "source": [
        "#null\n",
        "s1 = {10,20,30,40}\n",
        "s1.clear()\n",
        "print(s1)"
      ],
      "metadata": {
        "colab": {
          "base_uri": "https://localhost:8080/"
        },
        "id": "z3UQr_0vNcck",
        "outputId": "517852c9-654b-42bc-b624-e1b8a745112c"
      },
      "execution_count": null,
      "outputs": [
        {
          "output_type": "stream",
          "name": "stdout",
          "text": [
            "set()\n"
          ]
        }
      ]
    },
    {
      "cell_type": "code",
      "source": [
        "import datetime\n",
        "\n",
        "def create_study_schedule(subjects, topics):\n",
        "    today = datetime.datetime.today()\n",
        "    schedule = {}\n",
        "\n",
        "    for subject in subjects:\n",
        "        schedule[subject] = []\n",
        "\n",
        "        for topic in topics[subject]:\n",
        "            study_date = today + datetime.timedelta(days=topics[subject][topic])\n",
        "            schedule[subject].append((topic, study_date))\n",
        "\n",
        "    return schedule\n",
        "\n",
        "subjects = ['Math', 'Science', 'History']\n",
        "topics = {\n",
        "    'Math': {\n",
        "        'Algebra': 2,\n",
        "        'Geometry': 3,\n",
        "        'Trigonometry': 4\n",
        "    },\n",
        "    'Science': {\n",
        "        'Biology': 2,\n",
        "        'Chemistry': 3,\n",
        "        'Physics': 4\n",
        "    },\n",
        "    'History': {\n",
        "        'World War II': 2,\n",
        "        'Ancient Egypt': 3,\n",
        "        'Renaissance': 4\n",
        "    }\n",
        "}\n",
        "\n",
        "schedule = create_study_schedule(subjects, topics)\n",
        "\n",
        "for subject in schedule:\n",
        "    print(subject)\n",
        "    for topic, study_date in schedule[subject]:\n",
        "        print(f'- {topic}: {study_date.strftime(\"%m/%d/%Y\")}')\n"
      ],
      "metadata": {
        "id": "llD_cG7INvZF",
        "colab": {
          "base_uri": "https://localhost:8080/"
        },
        "outputId": "5718133f-05d6-4601-a660-e16ff635d530"
      },
      "execution_count": null,
      "outputs": [
        {
          "output_type": "stream",
          "name": "stdout",
          "text": [
            "Math\n",
            "- Algebra: 04/29/2023\n",
            "- Geometry: 04/30/2023\n",
            "- Trigonometry: 05/01/2023\n",
            "Science\n",
            "- Biology: 04/29/2023\n",
            "- Chemistry: 04/30/2023\n",
            "- Physics: 05/01/2023\n",
            "History\n",
            "- World War II: 04/29/2023\n",
            "- Ancient Egypt: 04/30/2023\n",
            "- Renaissance: 05/01/2023\n"
          ]
        }
      ]
    },
    {
      "cell_type": "code",
      "source": [
        "def Loopoffruits():\n",
        "  fruits = [\"Apple\",\"Banana\",\"Cherry\"]\n",
        "  for i in fruits:\n",
        "    print(i,\"it is an fruit name\")\n",
        "Loopoffruits()\n"
      ],
      "metadata": {
        "colab": {
          "base_uri": "https://localhost:8080/"
        },
        "id": "6SWiCnQ5OF00",
        "outputId": "06724a31-3c30-419f-d81e-e653bab04532"
      },
      "execution_count": null,
      "outputs": [
        {
          "output_type": "stream",
          "name": "stdout",
          "text": [
            "Apple it is an fruit name\n",
            "Banana it is an fruit name\n",
            "Cherry it is an fruit name\n"
          ]
        }
      ]
    },
    {
      "cell_type": "code",
      "source": [
        "print(\"Enter a value\")\n",
        "num =int(input())\n",
        "sum=0\n",
        "i=1\n",
        "while i<=num:\n",
        "  sum=sum+i\n",
        "  i=i+1\n",
        "  print(\"sum\",sum)"
      ],
      "metadata": {
        "id": "vWpMkTExOlJ5"
      },
      "execution_count": null,
      "outputs": []
    },
    {
      "cell_type": "code",
      "source": [
        "l1=[5,6,8,9,10,12,'A','B']\n",
        "print(l1)"
      ],
      "metadata": {
        "colab": {
          "base_uri": "https://localhost:8080/"
        },
        "id": "vyRc4VWeNLXN",
        "outputId": "2e5b2885-1c81-4591-8aa6-0fdfd04bb4d3"
      },
      "execution_count": null,
      "outputs": [
        {
          "output_type": "stream",
          "name": "stdout",
          "text": [
            "[5, 6, 8, 9, 10, 12, 'A', 'B']\n"
          ]
        }
      ]
    },
    {
      "cell_type": "code",
      "source": [
        "import csv\n",
        "file=open(\"/content/drive/MyDrive/emp (2).csv\",\"r\")\n",
        "data = list(csv.reader(file))\n",
        "data.sort()\n",
        "print(data)\n",
        "file.close()\n",
        "file1 = open(\"/content/drive/MyDrive/Emp_salary.csv\",\"r\")\n",
        "data1 = list(csv.reader(file1))\n",
        "print(data1)\n",
        "#merging two files\n",
        "data2=[]\n",
        "for i in range(len(data)):\n",
        " data2.append(data[i]+data1[i])\n",
        "print(data2)\n",
        "print(data2[0])\n",
        "#sorting as per records\n",
        "data2.sort(key=lambda x: int(x[2]), reverse = True)\n",
        "print(data2)\n",
        "#converting list to csv file\n",
        "file2 = open(\"/content/drive/MyDrive/csv\",\"w\")\n",
        "cw=csv.writer(file2)\n",
        "cw.writerows(data2)\n",
        "file.close()\n",
        "file1.close()\n",
        "file3.close()"
      ],
      "metadata": {
        "id": "D9K0AyGmRIW1",
        "colab": {
          "base_uri": "https://localhost:8080/",
          "height": 446
        },
        "outputId": "c783ae85-ef76-4097-9c7b-db44184b0d15"
      },
      "execution_count": null,
      "outputs": [
        {
          "output_type": "stream",
          "name": "stdout",
          "text": [
            "[['1', 'Sanvi', 'Manager', '100000'], ['2', 'Mrunmayee', 'Sr. Manager', '95000'], ['3', 'Jayesh', 'Manager', '80000'], ['4', 'Gouri', 'Sr. Manager', '95000'], ['5', 'Mahesh', 'Supervisor', '500000']]\n",
            "[['ID', 'SALARY'], ['101', '57000'], ['102', '95000'], ['103', '85000'], ['104', '87000'], ['105', '63000'], ['106', '34000'], ['107', '75000'], ['108', '60000'], ['109', '45000'], ['110', '50000']]\n",
            "[['1', 'Sanvi', 'Manager', '100000', 'ID', 'SALARY'], ['2', 'Mrunmayee', 'Sr. Manager', '95000', '101', '57000'], ['3', 'Jayesh', 'Manager', '80000', '102', '95000'], ['4', 'Gouri', 'Sr. Manager', '95000', '103', '85000'], ['5', 'Mahesh', 'Supervisor', '500000', '104', '87000']]\n",
            "['1', 'Sanvi', 'Manager', '100000', 'ID', 'SALARY']\n"
          ]
        },
        {
          "output_type": "error",
          "ename": "ValueError",
          "evalue": "ignored",
          "traceback": [
            "\u001b[0;31m---------------------------------------------------------------------------\u001b[0m",
            "\u001b[0;31mValueError\u001b[0m                                Traceback (most recent call last)",
            "\u001b[0;32m<ipython-input-10-f11cff005a8c>\u001b[0m in \u001b[0;36m<cell line: 17>\u001b[0;34m()\u001b[0m\n\u001b[1;32m     15\u001b[0m \u001b[0mprint\u001b[0m\u001b[0;34m(\u001b[0m\u001b[0mdata2\u001b[0m\u001b[0;34m[\u001b[0m\u001b[0;36m0\u001b[0m\u001b[0;34m]\u001b[0m\u001b[0;34m)\u001b[0m\u001b[0;34m\u001b[0m\u001b[0;34m\u001b[0m\u001b[0m\n\u001b[1;32m     16\u001b[0m \u001b[0;31m#sorting as per records\u001b[0m\u001b[0;34m\u001b[0m\u001b[0;34m\u001b[0m\u001b[0m\n\u001b[0;32m---> 17\u001b[0;31m \u001b[0mdata2\u001b[0m\u001b[0;34m.\u001b[0m\u001b[0msort\u001b[0m\u001b[0;34m(\u001b[0m\u001b[0mkey\u001b[0m\u001b[0;34m=\u001b[0m\u001b[0;32mlambda\u001b[0m \u001b[0mx\u001b[0m\u001b[0;34m:\u001b[0m \u001b[0mint\u001b[0m\u001b[0;34m(\u001b[0m\u001b[0mx\u001b[0m\u001b[0;34m[\u001b[0m\u001b[0;36m2\u001b[0m\u001b[0;34m]\u001b[0m\u001b[0;34m)\u001b[0m\u001b[0;34m,\u001b[0m \u001b[0mreverse\u001b[0m \u001b[0;34m=\u001b[0m \u001b[0;32mTrue\u001b[0m\u001b[0;34m)\u001b[0m\u001b[0;34m\u001b[0m\u001b[0;34m\u001b[0m\u001b[0m\n\u001b[0m\u001b[1;32m     18\u001b[0m \u001b[0mprint\u001b[0m\u001b[0;34m(\u001b[0m\u001b[0mdata2\u001b[0m\u001b[0;34m)\u001b[0m\u001b[0;34m\u001b[0m\u001b[0;34m\u001b[0m\u001b[0m\n\u001b[1;32m     19\u001b[0m \u001b[0;31m#converting list to csv file\u001b[0m\u001b[0;34m\u001b[0m\u001b[0;34m\u001b[0m\u001b[0m\n",
            "\u001b[0;32m<ipython-input-10-f11cff005a8c>\u001b[0m in \u001b[0;36m<lambda>\u001b[0;34m(x)\u001b[0m\n\u001b[1;32m     15\u001b[0m \u001b[0mprint\u001b[0m\u001b[0;34m(\u001b[0m\u001b[0mdata2\u001b[0m\u001b[0;34m[\u001b[0m\u001b[0;36m0\u001b[0m\u001b[0;34m]\u001b[0m\u001b[0;34m)\u001b[0m\u001b[0;34m\u001b[0m\u001b[0;34m\u001b[0m\u001b[0m\n\u001b[1;32m     16\u001b[0m \u001b[0;31m#sorting as per records\u001b[0m\u001b[0;34m\u001b[0m\u001b[0;34m\u001b[0m\u001b[0m\n\u001b[0;32m---> 17\u001b[0;31m \u001b[0mdata2\u001b[0m\u001b[0;34m.\u001b[0m\u001b[0msort\u001b[0m\u001b[0;34m(\u001b[0m\u001b[0mkey\u001b[0m\u001b[0;34m=\u001b[0m\u001b[0;32mlambda\u001b[0m \u001b[0mx\u001b[0m\u001b[0;34m:\u001b[0m \u001b[0mint\u001b[0m\u001b[0;34m(\u001b[0m\u001b[0mx\u001b[0m\u001b[0;34m[\u001b[0m\u001b[0;36m2\u001b[0m\u001b[0;34m]\u001b[0m\u001b[0;34m)\u001b[0m\u001b[0;34m,\u001b[0m \u001b[0mreverse\u001b[0m \u001b[0;34m=\u001b[0m \u001b[0;32mTrue\u001b[0m\u001b[0;34m)\u001b[0m\u001b[0;34m\u001b[0m\u001b[0;34m\u001b[0m\u001b[0m\n\u001b[0m\u001b[1;32m     18\u001b[0m \u001b[0mprint\u001b[0m\u001b[0;34m(\u001b[0m\u001b[0mdata2\u001b[0m\u001b[0;34m)\u001b[0m\u001b[0;34m\u001b[0m\u001b[0;34m\u001b[0m\u001b[0m\n\u001b[1;32m     19\u001b[0m \u001b[0;31m#converting list to csv file\u001b[0m\u001b[0;34m\u001b[0m\u001b[0;34m\u001b[0m\u001b[0m\n",
            "\u001b[0;31mValueError\u001b[0m: invalid literal for int() with base 10: 'Manager'"
          ]
        }
      ]
    },
    {
      "cell_type": "code",
      "source": [
        "import pandas as pd\n",
        "df = pd.read_excel('/content/drive/MyDrive/Emp.xlsx')\n",
        "a = df\n",
        "print(a.values.tolist())\n",
        "df1= pd.read_excel(r'/content/drive/MyDrive/sal.xlsx')\n",
        "l = list(df1.itertuples(index=False))\n",
        "\n",
        "t1=[tuple(x)for x in df1.values]\n",
        "\n",
        "d1=df.to_dict()\n",
        "def freq(l):\n",
        "    counter=0\n",
        "    num=l[0]\n",
        "    for i in l:\n",
        "      cf = l.count(i)\n",
        "      if(cf>counter):\n",
        "        counter=cf\n",
        "        num=i\n",
        "        return 0\n",
        "        print(freq(l))\n"
      ],
      "metadata": {
        "id": "iebb92NlVoFn",
        "colab": {
          "base_uri": "https://localhost:8080/"
        },
        "outputId": "7c472ecd-fefb-4830-872c-3bb25f9d39c5"
      },
      "execution_count": null,
      "outputs": [
        {
          "output_type": "stream",
          "name": "stdout",
          "text": [
            "[['Sr no.', 'Emp Name', 'Emp id', 'Date', 'Leaves'], [1, 'Ganesh ', 1001, datetime.datetime(2023, 1, 21, 0, 0), 2], [2, 'Kartik', 1002, datetime.datetime(2023, 1, 22, 0, 0), 4], [3, 'Veera', 1003, datetime.datetime(2023, 1, 23, 0, 0), 8], [4, 'Sanskruti', 1004, datetime.datetime(2023, 1, 24, 0, 0), 6], [5, 'Archana', 1005, datetime.datetime(2023, 1, 25, 0, 0), 1], [6, 'Aradhana', 1006, datetime.datetime(2023, 1, 26, 0, 0), 2], [7, 'Pratham', 1007, datetime.datetime(2023, 1, 27, 0, 0), 3], [8, 'Sayali', 1008, datetime.datetime(2023, 1, 28, 0, 0), 5], [9, 'Smruti', 1009, datetime.datetime(2023, 1, 29, 0, 0), 9], [10, 'Vijay', 1010, datetime.datetime(2023, 1, 30, 0, 0), 7]]\n"
          ]
        }
      ]
    },
    {
      "cell_type": "code",
      "source": [],
      "metadata": {
        "id": "hAJaIoiQudR_"
      },
      "execution_count": null,
      "outputs": []
    },
    {
      "cell_type": "code",
      "source": [
        "# Arithmetic Operators\n",
        "a = 10\n",
        "b = 5\n",
        "print(a + b) # Addition operator\n",
        "print(a - b) # Subtraction operator\n",
        "print(a * b) # Multiplication operator\n",
        "print(a / b) # Division operator\n",
        "print(a % b) # Modulo operator\n",
        "print(a ** b) # Exponentiation operator\n",
        "print(a // b) # Floor division operator\n",
        "\n",
        "# Comparison Operators\n",
        "print(a == b)\n",
        "print(a != b)\n",
        "print(a > b)\n",
        "print(a < b)\n",
        "print(a >= b)\n",
        "print(a <= b)\n",
        "\n",
        "\n",
        "\n",
        "# Bitwise Operators\n",
        "p = 60\n",
        "q = 13\n",
        "print(p & q)\n",
        "print(p | q)\n",
        "print(p ^ q)\n",
        "print(~p)\n",
        "print(p << 2)\n",
        "print(p >> 2)\n",
        "\n",
        "# Assignment Operators\n",
        "x = 5\n",
        "x += 3 # x = x + 3\n",
        "print(x)\n",
        "x -= 3 # x = x - 3\n",
        "print(x)\n",
        "x *= 3 # x = x * 3\n",
        "print(x)\n",
        "x /= 3 # x = x / 3\n",
        "print(x)\n",
        "x %= 3 # x = x % 3\n",
        "print(x)\n",
        "x //= 3 # x = x // 3\n",
        "print(x)\n",
        "x **= 3 # x = x ** 3\n",
        "print(x)\n",
        "\n"
      ],
      "metadata": {
        "colab": {
          "base_uri": "https://localhost:8080/"
        },
        "id": "aEpeUhRFu18d",
        "outputId": "bcc6df45-0d74-47b0-ec7e-72200207f825"
      },
      "execution_count": null,
      "outputs": [
        {
          "output_type": "stream",
          "name": "stdout",
          "text": [
            "15\n",
            "5\n",
            "50\n",
            "2.0\n",
            "0\n",
            "100000\n",
            "2\n",
            "False\n",
            "True\n",
            "True\n",
            "False\n",
            "True\n",
            "False\n",
            "12\n",
            "61\n",
            "49\n",
            "-61\n",
            "240\n",
            "15\n",
            "8\n",
            "5\n",
            "15\n",
            "5.0\n",
            "2.0\n",
            "0.0\n",
            "0.0\n"
          ]
        }
      ]
    },
    {
      "cell_type": "code",
      "source": [
        "budget = 500\n",
        "item_cost = 166\n",
        "\n",
        "vegetables_cost = int(input(\"Enter the cost of vegetables: \"))\n",
        "grocery_cost = int(input(\"Enter the cost of grocery: \"))\n",
        "\n",
        "if vegetables_cost + grocery_cost > budget:\n",
        "    print(\"Aradhana cannot buy daily needs.\")\n",
        "else:\n",
        "    if vegetables_cost == item_cost and grocery_cost == item_cost:\n",
        "        print(\"Aradhana can buy all the items.\")\n",
        "    else:\n",
        "        print(\"Aradhana cannot buy daily needs.\")"
      ],
      "metadata": {
        "colab": {
          "base_uri": "https://localhost:8080/"
        },
        "id": "UZW4hQVNyePm",
        "outputId": "b0a93e02-919e-43cf-cf01-461225da8fd9"
      },
      "execution_count": null,
      "outputs": [
        {
          "output_type": "stream",
          "name": "stdout",
          "text": [
            "Enter the cost of vegetables: 166\n",
            "Enter the cost of grocery: 166\n",
            "Aradhana can buy all the items.\n"
          ]
        }
      ]
    },
    {
      "cell_type": "code",
      "source": [
        "import pandas as pd\n",
        "df1 = pd.read_excel('/content/drive/MyDrive/suyash cabyh.xlsx')\n",
        "data = df1.values.tolist()\n",
        "a = df1['chem']\n",
        "b = df1['Name Of Students']\n",
        "df1['chem'] = df1['chem'].astype('int64')\n",
        "d = df1['Name Of Students'][df1['chem'] > 14]\n",
        "def student(a, b, d):\n",
        "    print('Name Of Students:', a, b)\n",
        "student(a, b, d)\n",
        "def student_marks(d):\n",
        "    print('Student marks:', d)\n",
        "student_marks(d)"
      ],
      "metadata": {
        "id": "8_hrAzRR2yS9",
        "colab": {
          "base_uri": "https://localhost:8080/"
        },
        "outputId": "ebaeec50-039e-4c0f-a144-008f9623c4f3"
      },
      "execution_count": null,
      "outputs": [
        {
          "output_type": "stream",
          "name": "stdout",
          "text": [
            "Name Of Students: 0    12\n",
            "1    10\n",
            "2    11\n",
            "3    20\n",
            "4    12\n",
            "5    12\n",
            "6    16\n",
            "7    17\n",
            "8    20\n",
            "Name: chem, dtype: int64 0       ayush\n",
            "1      suyash\n",
            "2      piyush\n",
            "3     vidnesh\n",
            "4    shreyash\n",
            "5        yash\n",
            "6      jayesh\n",
            "7      kiresh\n",
            "8     atharva\n",
            "Name: Name Of Students, dtype: object\n",
            "Student marks: 3    vidnesh\n",
            "6     jayesh\n",
            "7     kiresh\n",
            "8    atharva\n",
            "Name: Name Of Students, dtype: object\n"
          ]
        }
      ]
    },
    {
      "cell_type": "code",
      "source": [
        "import numpy as np\n",
        "arr3 = np.array([0, 1, 2, 3, 4, 5])\n",
        "print(arr3)\n"
      ],
      "metadata": {
        "colab": {
          "base_uri": "https://localhost:8080/"
        },
        "id": "cvRTFX6V7gM_",
        "outputId": "9d3a7d60-fc00-488b-c12f-7493d4859200"
      },
      "execution_count": null,
      "outputs": [
        {
          "output_type": "stream",
          "name": "stdout",
          "text": [
            "[0 1 2 3 4 5]\n"
          ]
        }
      ]
    },
    {
      "cell_type": "code",
      "source": [
        "import numpy as np\n",
        "\n",
        "arr = np.array([1, 2, 3, 4, 5])\n",
        "sum_val = np.sum(arr)\n",
        "mean_val = np.mean(arr)\n",
        "print(sum_val)  # Output: 15\n",
        "print(mean_val)  # Output: 3.0"
      ],
      "metadata": {
        "colab": {
          "base_uri": "https://localhost:8080/"
        },
        "id": "3Pq2dvbPBDZv",
        "outputId": "3f0e2fba-cf05-4bda-efae-66c209f846e0"
      },
      "execution_count": null,
      "outputs": [
        {
          "output_type": "stream",
          "name": "stdout",
          "text": [
            "15\n",
            "3.0\n"
          ]
        }
      ]
    },
    {
      "cell_type": "code",
      "source": [
        "import numpy as np\n",
        "\n",
        "arr = np.array([1, 2, 3, 4, 5])\n",
        "max_val = np.max(arr)\n",
        "min_val = np.min(arr)\n",
        "print(max_val)  # Output: 5\n",
        "print(min_val)  # Output: 1\n"
      ],
      "metadata": {
        "colab": {
          "base_uri": "https://localhost:8080/"
        },
        "id": "HZ4PX7omBDXM",
        "outputId": "0b1b06f3-b51a-4511-e995-d453055b4bd9"
      },
      "execution_count": null,
      "outputs": [
        {
          "output_type": "stream",
          "name": "stdout",
          "text": [
            "5\n",
            "1\n"
          ]
        }
      ]
    },
    {
      "cell_type": "code",
      "source": [
        "import numpy as np\n",
        "\n",
        "arr = np.array([[1, 2, 3], [4, 5, 6]])\n",
        "transposed_arr = np.transpose(arr)\n",
        "print(transposed_arr)  # Output: [[1 4]\n",
        "                       #          [2 5]\n",
        "                       #          [3 6]]\n"
      ],
      "metadata": {
        "colab": {
          "base_uri": "https://localhost:8080/"
        },
        "id": "75EtYGhaBDUu",
        "outputId": "4d7541b8-4bd7-4601-e2f4-4d3d439109eb"
      },
      "execution_count": null,
      "outputs": [
        {
          "output_type": "stream",
          "name": "stdout",
          "text": [
            "[[1 4]\n",
            " [2 5]\n",
            " [3 6]]\n"
          ]
        }
      ]
    },
    {
      "cell_type": "code",
      "source": [
        "import numpy as np\n",
        "\n",
        "arr1 = np.array([1, 2, 3])\n",
        "arr2 = np.array([4, 5, 6])\n",
        "dot_product = np.dot(arr1, arr2)\n",
        "print(dot_product)  # Output: 32\n"
      ],
      "metadata": {
        "colab": {
          "base_uri": "https://localhost:8080/"
        },
        "id": "1l8EZE5OBDR1",
        "outputId": "a665be4d-a8a2-4e84-d883-3049969266d2"
      },
      "execution_count": null,
      "outputs": [
        {
          "output_type": "stream",
          "name": "stdout",
          "text": [
            "32\n"
          ]
        }
      ]
    },
    {
      "cell_type": "code",
      "source": [
        "import numpy as np\n",
        "\n",
        "arr1 = np.array([1, 2, 3])\n",
        "arr2 = np.array([4, 5, 6])\n",
        "result = arr1 + arr2\n",
        "print(result)  # Output: [5 7 9]\n"
      ],
      "metadata": {
        "id": "MvFmIj9JBDPO"
      },
      "execution_count": null,
      "outputs": []
    },
    {
      "cell_type": "code",
      "source": [
        "import numpy as np\n",
        "\n",
        "arr = np.array([1, 2, 3, 4, 5])\n",
        "print(arr[2:4])  # Output: [3 4]\n"
      ],
      "metadata": {
        "colab": {
          "base_uri": "https://localhost:8080/"
        },
        "id": "soxLh5p7BDMw",
        "outputId": "96cf5bb8-ac83-432b-c92d-07238ce7ab1a"
      },
      "execution_count": null,
      "outputs": [
        {
          "output_type": "stream",
          "name": "stdout",
          "text": [
            "[3 4]\n"
          ]
        }
      ]
    },
    {
      "cell_type": "code",
      "source": [
        "import numpy as np\n",
        "\n",
        "arr = np.array([1, 2, 3, 4, 5, 6])\n",
        "reshaped_arr = arr.reshape(2, 3)\n",
        "print(reshaped_arr)  # Output: [[1 2 3]\n",
        "                     #          [4 5 6]]\n"
      ],
      "metadata": {
        "colab": {
          "base_uri": "https://localhost:8080/"
        },
        "id": "tJJUCxFWBDJ3",
        "outputId": "d05727df-cc0c-47fa-9094-cecc9974d6b2"
      },
      "execution_count": null,
      "outputs": [
        {
          "output_type": "stream",
          "name": "stdout",
          "text": [
            "[[1 2 3]\n",
            " [4 5 6]]\n"
          ]
        }
      ]
    },
    {
      "cell_type": "code",
      "source": [
        "import numpy as np\n",
        "\n",
        "arr = np.array([[1, 2, 3], [4, 5, 6]])\n",
        "print(arr.shape)  # Output: (2, 3)\n"
      ],
      "metadata": {
        "colab": {
          "base_uri": "https://localhost:8080/"
        },
        "id": "YuoJITWABDHU",
        "outputId": "e49a5610-7a88-4e37-e3d4-d8a463297bd4"
      },
      "execution_count": null,
      "outputs": [
        {
          "output_type": "stream",
          "name": "stdout",
          "text": [
            "(2, 3)\n"
          ]
        }
      ]
    },
    {
      "cell_type": "code",
      "source": [
        "import numpy as np\n",
        "\n",
        "arr = np.array([1, 2, 3, 4, 5])\n",
        "print(arr)  # Output: [1 2 3 4 5]\n"
      ],
      "metadata": {
        "colab": {
          "base_uri": "https://localhost:8080/"
        },
        "id": "vWUAq5JvBDEO",
        "outputId": "8c7c6452-959b-4491-c689-5a37bf2072cc"
      },
      "execution_count": null,
      "outputs": [
        {
          "output_type": "stream",
          "name": "stdout",
          "text": [
            "[1 2 3 4 5]\n"
          ]
        }
      ]
    },
    {
      "cell_type": "code",
      "source": [
        "#Fetch all details for website\n",
        "import pandas as pd\n",
        "df = pd.read_csv('/content/drive/MyDrive/109_csv.csv')\n",
        "filtered_df = df[df['Age'] >= 12]\n",
        "print(filtered_df)\n"
      ],
      "metadata": {
        "id": "7XLij6t1HHil",
        "colab": {
          "base_uri": "https://localhost:8080/"
        },
        "outputId": "cc3a45df-0621-4add-8532-770d13fb7967"
      },
      "execution_count": null,
      "outputs": [
        {
          "output_type": "stream",
          "name": "stdout",
          "text": [
            "    Sr.No      Name               Mail Id  Phone Number   Age  Gender\n",
            "0       1     suyash     suyash@gmail.com     9421516611   12    male\n",
            "2       3     roshan     roshan@gmail.com     9423335166   18    male\n",
            "3       4     tanmay     tanmay@gmail.com     9444215166   19    male\n",
            "4       5    atharva    atharva@gmail.com     9424415166   20    male\n",
            "5       6   prajakta   prajakta@gmail.com     9425515166   21  female\n",
            "6       7  jayashree  jayashree@gmail.com     9421566166   12  female\n",
            "7       8      essak      essak@gmail.com     9447215166   22    male\n",
            "8       9      vipul      vipul@gmail.com     9427715166   55    male\n",
            "9      10     aditya     aditya@gmail.com     9428815166   50    male\n",
            "10     11     manasi     manasi@gmail.com     9499215166   42  female\n",
            "11     12  vaishnavi  vaishnavi@gmail.com     9410215166   46  female\n",
            "12     13     dipika     dipika@gmail.com     9420215166   82  female\n",
            "14     15      kiran      kiran@gmail.com     9504215166   54    male\n",
            "15     16      vijay      vijay@gmail.com     9485215166   32    male\n",
            "16     17       yash       yash@gmail.com     9425715166   48    male\n",
            "17     18       abhi       abhi@gmail.com     9498215166   21    male\n",
            "18     19    pratham    pratham@gmail.com     9834215166   12    male\n",
            "19     20      sujay      sujay@gmail.com     9421514566   21    male\n"
          ]
        }
      ]
    },
    {
      "cell_type": "code",
      "source": [
        "#give special offer to all females\n",
        "import pandas as pd\n",
        "df = pd.read_csv('/content/drive/MyDrive/109_csv.csv')\n",
        "female_users = df[df['Gender'] == 'Female']\n",
        "for index, row in female_users.iterrows():\n",
        "    phone_Number = row['Phone_Number']\n",
        "    print(f\"Special offer applied to female user with user_id: {phone_Number}\")"
      ],
      "metadata": {
        "id": "bW6YHG7et5_D"
      },
      "execution_count": null,
      "outputs": []
    },
    {
      "cell_type": "code",
      "source": [
        "#Fetch all details of male convert them into list\n",
        "import pandas as pd\n",
        "df = pd.read_csv('/content/drive/MyDrive/109_csv.csv')\n",
        "male_users = df[df['Gender'] == 'male']\n",
        "male_user_list = male_users.values.tolist()\n",
        "for row in male_user_list:\n",
        "    print(row)\n"
      ],
      "metadata": {
        "id": "HtPiA3OCt_YD"
      },
      "execution_count": null,
      "outputs": []
    },
    {
      "cell_type": "code",
      "source": [
        "#Operation 1 on list\n",
        "male_user_count = len(male_user_list)\n",
        "print(\"Number of male users:\", male_user_count)"
      ],
      "metadata": {
        "id": "lcq-l2osuB0C"
      },
      "execution_count": null,
      "outputs": []
    },
    {
      "cell_type": "code",
      "source": [
        "#Operation 2 on list\n",
        "to_do_list = []\n",
        "for row in male_user_list:\n",
        "    phone_number = row[3]\n",
        "    to_do_list.append(phone_number)\n",
        "print(\" Phone Numbers of all males :\")\n",
        "for phone_number in to_do_list:\n",
        "    print(phone_number)"
      ],
      "metadata": {
        "id": "TrH5oWtAuEFi"
      },
      "execution_count": null,
      "outputs": []
    },
    {
      "cell_type": "code",
      "source": [
        "#Operation 3 on list\n",
        "to_do_list = []\n",
        "for row in male_user_list:\n",
        "    phone_number = row[2]\n",
        "    to_do_list.append(phone_number)\n",
        "print(\"Email of all males :\")\n",
        "for Email_id in to_do_list:\n",
        "    print(Email_id)"
      ],
      "metadata": {
        "id": "TZemn52BuGMy"
      },
      "execution_count": null,
      "outputs": []
    },
    {
      "cell_type": "code",
      "source": [
        "#Operation 4 on list\n",
        "phone_numbers = [row[3] for row in male_user_list]\n",
        "repeated_digits = []\n",
        "for number in phone_numbers:\n",
        "    digits = [int(digit) for digit in str(number) if digit.isdigit()]\n",
        "    unique_digits = set(digits)\n",
        "    repeated_digits.extend([digit for digit in unique_digits if digits.count(digit) > 1])\n",
        "print(\"Repeated digits in phone numbers:\")\n",
        "for digit in repeated_digits:\n",
        "    print(digit)"
      ],
      "metadata": {
        "id": "Hwd4FWjkuJGS"
      },
      "execution_count": null,
      "outputs": []
    },
    {
      "cell_type": "code",
      "source": [
        "# Define a dictionary to store employee data\n",
        "employees = {}\n",
        "\n",
        "# Ask the user for the number of employees\n",
        "num_employees = int(input(\"How many employees do you want to add? \"))\n",
        "\n",
        "# Loop through each employee and ask for their name and salary\n",
        "for i in range(num_employees):\n",
        "    name = input(\"Enter employee name: \")\n",
        "    salary = float(input(\"Enter employee salary: \"))\n",
        "    employees[name] = salary\n",
        "\n",
        "# Find the manager with the highest salary and the HR person with the second highest salary\n",
        "sorted_salaries = sorted(employees.values(), reverse=True)\n",
        "manager_salary = sorted_salaries[0]\n",
        "hr_salary = sorted_salaries[1]\n",
        "\n",
        "manager = \"\"\n",
        "hr = \"\"\n",
        "\n",
        "for name, salary in employees.items():\n",
        "    if salary == manager_salary:\n",
        "        manager = name\n",
        "    elif salary == hr_salary:\n",
        "        hr = name\n",
        "\n",
        "# Calculate the total expenditure on employee salaries\n",
        "total_expenditure = sum(employees.values())\n",
        "\n",
        "# Display the results\n",
        "print(\"Manager with highest salary: \", manager)\n",
        "print(\"HR with second highest salary: \", hr)\n",
        "print(\"Total expenditure on salaries: \", total_expenditure)"
      ],
      "metadata": {
        "id": "lW5YkJ52uSBA"
      },
      "execution_count": null,
      "outputs": []
    }
  ],
  "metadata": {
    "colab": {
      "provenance": [],
      "mount_file_id": "1_1Bagb_PmhPcOINwkZm_Sa1oocTZoLw0",
      "authorship_tag": "ABX9TyOftcKa41bLGwUplH2761V0",
      "include_colab_link": true
    },
    "kernelspec": {
      "display_name": "Python 3",
      "name": "python3"
    },
    "language_info": {
      "name": "python"
    }
  },
  "nbformat": 4,
  "nbformat_minor": 0
}